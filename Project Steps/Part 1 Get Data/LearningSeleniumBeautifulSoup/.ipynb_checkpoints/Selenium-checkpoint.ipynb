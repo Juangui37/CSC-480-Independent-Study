{
 "cells": [
  {
   "cell_type": "code",
   "execution_count": 8,
   "id": "948e546d",
   "metadata": {},
   "outputs": [],
   "source": [
    "from selenium import webdriver\n",
    "from selenium.webdriver.common.keys import Keys\n",
    "from selenium.webdriver.common.by import By\n",
    "from selenium.webdriver import ActionChains\n",
    "from selenium.webdriver.common.action_chains import ActionChains\n",
    "\n",
    "import time\n",
    "from time import sleep\n",
    "from random import randint"
   ]
  },
  {
   "cell_type": "code",
   "execution_count": 9,
   "id": "4f94e8d6",
   "metadata": {},
   "outputs": [],
   "source": [
    "driver = webdriver.Firefox()"
   ]
  },
  {
   "cell_type": "code",
   "execution_count": 10,
   "id": "c872cbf9",
   "metadata": {},
   "outputs": [],
   "source": [
    "driver.get(\"https://www.zillow.com/\")"
   ]
  },
  {
   "cell_type": "code",
   "execution_count": 11,
   "id": "a92ba383",
   "metadata": {},
   "outputs": [],
   "source": [
    "search_bar = driver.find_element(By.XPATH, '//input[@id=\"search-box-input\"]')\n",
    "time.sleep(5)\n",
    "search_bar.send_keys(\"06108\")\n",
    "time.sleep(4)\n",
    "search_bar.send_keys(Keys.RETURN)"
   ]
  },
  {
   "cell_type": "code",
   "execution_count": 15,
   "id": "6c5a7684",
   "metadata": {},
   "outputs": [
    {
     "name": "stdout",
     "output_type": "stream",
     "text": [
      "A CAPTCHA test has appeared!\n"
     ]
    }
   ],
   "source": [
    "if len(driver.find_elements(By.CLASS_NAME, \"captcha-container\")) > 0:\n",
    "    print(\"A CAPTCHA test has appeared!\")\n",
    "    \n",
    "    element = driver.find_element(By.CSS_SELECTOR, '#px-captcha')\n",
    "    action = ActionChains(driver)\n",
    "    click = ActionChains(driver)\n",
    "    action.click_and_hold(element)\n",
    "    action.perform()\n",
    "    time.sleep(10)\n",
    "    action.release(element)\n",
    "    action.perform()\n",
    "    time.sleep(0.2)\n",
    "    action.release(element)\n",
    "\n",
    "else:\n",
    "    print(\"No CAPTCHA test has appeared.\")"
   ]
  },
  {
   "cell_type": "markdown",
   "id": "aaa62830",
   "metadata": {},
   "source": [
    "### My Code clicks and holds works but then a new test appears..."
   ]
  },
  {
   "cell_type": "markdown",
   "id": "80cae1f1",
   "metadata": {},
   "source": [
    "I believe I might be VPN Blocked"
   ]
  },
  {
   "cell_type": "code",
   "execution_count": null,
   "id": "e9ff3c5b",
   "metadata": {},
   "outputs": [],
   "source": []
  },
  {
   "cell_type": "code",
   "execution_count": 16,
   "id": "66132c60",
   "metadata": {},
   "outputs": [],
   "source": [
    "driver.quit()"
   ]
  },
  {
   "cell_type": "code",
   "execution_count": null,
   "id": "42f6900e",
   "metadata": {},
   "outputs": [],
   "source": []
  }
 ],
 "metadata": {
  "kernelspec": {
   "display_name": "Python 3 (ipykernel)",
   "language": "python",
   "name": "python3"
  },
  "language_info": {
   "codemirror_mode": {
    "name": "ipython",
    "version": 3
   },
   "file_extension": ".py",
   "mimetype": "text/x-python",
   "name": "python",
   "nbconvert_exporter": "python",
   "pygments_lexer": "ipython3",
   "version": "3.10.9"
  }
 },
 "nbformat": 4,
 "nbformat_minor": 5
}
