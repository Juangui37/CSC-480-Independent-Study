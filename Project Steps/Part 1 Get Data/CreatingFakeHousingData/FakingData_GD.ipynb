{
 "cells": [
  {
   "cell_type": "markdown",
   "id": "51ff7638",
   "metadata": {},
   "source": [
    "All the Code cells below are seperate versions of chatgpt trying to create random/fake data.... The more i asked ChatGPT, the wierder and less of what I want it gave me."
   ]
  },
  {
   "cell_type": "code",
   "execution_count": 2,
   "id": "3038f5f6",
   "metadata": {},
   "outputs": [],
   "source": [
    "import csv\n",
    "import random\n",
    "\n",
    "property_types = ['Duplex', 'Single Family', 'MultiFamily']\n",
    "cooling_options = ['Central Air', 'Window Units', 'None']\n",
    "basement_options = ['Full With Hatchway', 'Full Without Hatchway', 'Partial With Hatchway', 'Partial Without Hatchway', 'None']\n",
    "heating_options = ['Baseboard, Natural Gas', 'Forced Air, Natural Gas', 'Radiant, Natural Gas']\n",
    "laundry_options = ['All Units Have Hook-Ups', 'Common Laundry Area', 'Hook-Up In Unit']\n",
    "parking_options = ['Paved, Driveway, Off Street', 'Garage, Attached', 'Street Parking']\n",
    "community_options = ['Basketball Court', 'Golf', 'Park', 'Playground', 'Public Transportation', 'Putting Green']\n",
    "lot_features = ['Level', 'Rolling', 'Wooded', 'Sloping']\n",
    "construction_materials = ['Frame, Concrete, Vinyl Siding', 'Brick, Concrete, Stone', 'Wood Frame, Vinyl Siding', 'Brick, Wood, Stone']\n",
    "\n",
    "with open('zillow_data.csv', mode='w') as file:\n",
    "    writer = csv.writer(file)\n",
    "    writer.writerow(['Type', 'YearBuilt', 'Cooling', 'Basement', 'Bedrooms', 'Bathrooms', \n",
    "                     'FullBathrooms', 'HalfBathrooms', 'HeatingFeatures', \n",
    "                     'LaundryFeatures', 'TotalInteriorLivableArea', \n",
    "                     'FinishedAreaAboveGround', 'Attic', 'ParkingFeatures', \n",
    "                     'PatioAndPorchDetails', 'WaterfrontFeatures', 'LotSize', \n",
    "                     'LotFeatures', 'ParcelNumber', 'Zoning', 'PropertySubType',\n",
    "                     'ConstructionMaterials', 'Foundation', 'Roof', 'PropertyCondition', \n",
    "                     'NewConstruction', 'SewerInformation', 'WaterInformation', \n",
    "                     'UtilitiesForProperty', 'NumberOfUnits', 'CommunityFeatures', \n",
    "                     'Region', 'Sold', 'SoldDate'])\n",
    "    for i in range(100):\n",
    "        property_type = random.choice(property_types)\n",
    "        year_built = random.randint(1970, 2022)\n",
    "        cooling = random.choice(cooling_options)\n",
    "        basement = random.choice(basement_options)\n",
    "        bedrooms = random.randint(1, 6)\n",
    "        bathrooms = random.randint(1, 4)\n",
    "        full_bathrooms = random.randint(1, 3)\n",
    "        half_bathrooms = random.randint(0, 1)\n",
    "        heating = random.choice(heating_options)\n",
    "        laundry = random.choice(laundry_options)\n",
    "        livable_area = random.randint(1000, 3000)\n",
    "        finished_area = livable_area\n",
    "        attic = 'Access Panel'\n",
    "        parking = random.choice(parking_options)\n",
    "        patio = 'Porch'\n",
    "        waterfront = 'Not Applicable'\n",
    "        lot_size = random.randint(5000, 15000)\n",
    "        lot_features = random.choice(lot_features)\n",
    "        parcel_number = random.randint(1000000, 9999999)\n",
    "        zoning = 'MX-2'\n",
    "        sub_type = 'Duplex'\n",
    "        construction = random.choice(construction_materials)\n",
    "        foundation = 'Concrete'\n",
    "        roof = 'Asphalt'\n",
    "        condition = 'Under Construction'\n",
    "        new_construction = 'Yes'\n",
    "        sewer = 'Public Sewer'\n",
    "        water = 'Public Water Connected'\n",
    "        utilities = 'Underground Utilities'\n",
    "        units = 1\n",
    "        community = random.sample(community_options, random.randint(1, 3))[0]\n",
    "        region = 'Hartford'\n",
    "        sold = random.randint(100000, 1000000)\n",
    "        soldDate = '3/13/2023'\n",
    "        \n",
    "        pList = [property_type, year_built, cooling, basement, bedrooms,bathrooms]\n",
    "        pList += [full_bathrooms, half_bathrooms,heating, laundry, livable_area, finished_area]\n",
    "        pList += [attic, parking, patio, waterfront, lot_size, lot_features, parcel_number]\n",
    "        pList += [zoning, sub_type, construction, foundation, roof, condition, new_construction]\n",
    "        pList += [sewer, water, utilities, units, community, region, sold, soldDate]\n",
    "        \n",
    "        writer.writerow(pList)"
   ]
  },
  {
   "cell_type": "code",
   "execution_count": null,
   "id": "034ae998",
   "metadata": {},
   "outputs": [],
   "source": []
  }
 ],
 "metadata": {
  "kernelspec": {
   "display_name": "Python 3 (ipykernel)",
   "language": "python",
   "name": "python3"
  },
  "language_info": {
   "codemirror_mode": {
    "name": "ipython",
    "version": 3
   },
   "file_extension": ".py",
   "mimetype": "text/x-python",
   "name": "python",
   "nbconvert_exporter": "python",
   "pygments_lexer": "ipython3",
   "version": "3.9.12"
  }
 },
 "nbformat": 4,
 "nbformat_minor": 5
}
