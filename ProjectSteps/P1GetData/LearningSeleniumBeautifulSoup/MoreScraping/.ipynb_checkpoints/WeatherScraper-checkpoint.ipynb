{
 "cells": [
  {
   "cell_type": "markdown",
   "metadata": {
    "deletable": false,
    "editable": false
   },
   "source": [
    "# Weather Scraper\n",
    "\n",
    "This notebook demonstrates how to scrape weather data from http://weather.com. We will look at the 10-day forecast\\*, scrape the high temperatures, and then generate a graph to visualize them.\n",
    "\n",
    "\n",
    "\\*But clearly, there are more than 10 days in the \"10-day forecast\".\n",
    "\n",
    "### First we read in the data and create the *soup*."
   ]
  },
  {
   "cell_type": "code",
   "execution_count": 1,
   "metadata": {
    "deletable": false,
    "editable": false
   },
   "outputs": [],
   "source": [
    "import requests\n",
    "from bs4 import BeautifulSoup\n",
    "import pandas as pd\n",
    "\n",
    "# it is good practice to identify yourself\n",
    "# change the user-agent as appropriate\n",
    "headers = {\"user-agent\": \"WeatherBot/1.0\"}\n",
    "page = requests.get(\"https://weather.com/weather/5day/l/USCT0260:1:US\", headers = headers)\n",
    "\n",
    "if page.status_code != requests.codes.ok :\n",
    "    print(\"Request was not successful, status code:\", page.status_code)\n",
    "    exit()\n",
    "    \n",
    "# Parse page using BeautifulSoup\n",
    "soup = BeautifulSoup(page.content, 'html.parser')"
   ]
  },
  {
   "cell_type": "markdown",
   "metadata": {
    "deletable": false,
    "editable": false
   },
   "source": [
    "### Scrape the data\n",
    "\n",
    "In order to scrape the high temperature information we must understand the structure of the web page. The following observations are key:\n",
    "- Each 'row' containing the forecast information is stored in a *details* tag; the 10-day forecast starts with the second *details* element. The *details* tag is described here: https://www.w3schools.com/tags/tag_details.asp\n",
    "- Within each 'row', the date is inside of an *h2* tag.\n",
    "- Within each 'row', the temperature is in a *span* tag.\n",
    "\n",
    "Let's first look at the first day of the 10 day forecast, which will have an id of 'detailIndex1':"
   ]
  },
  {
   "cell_type": "code",
   "execution_count": 2,
   "metadata": {
    "deletable": false,
    "editable": false
   },
   "outputs": [
    {
     "data": {
      "text/plain": [
       "<details class=\"DaypartDetails--DayPartDetail--2XOOV Disclosure--themeList--1Dz21\" data-testid=\"ExpandedDetailsCard\" data-track-string=\"detailsExpand\" id=\"detailIndex1\"><summary class=\"Disclosure--Summary--3GiL4 DaypartDetails--Summary--3Fuya Disclosure--hideBorderOnSummaryOpen--3_ZkO\"><div class=\"DaypartDetails--DetailSummaryContent--1-r0i Disclosure--SummaryDefault--2XBO9\"><div class=\"DetailsSummary--DetailsSummary--1DqhO DetailsSummary--fadeOnOpen--KnNyF\" data-testid=\"DetailsSummary\"><h3 class=\"DetailsSummary--daypartName--kbngc\" data-testid=\"daypartName\">Tue 28</h3><div class=\"DetailsSummary--temperature--1kVVp\" data-testid=\"detailsTemperature\"><span class=\"DetailsSummary--highTempValue--3PjlX\" data-testid=\"TemperatureValue\">38°</span><span data-testid=\"lowTempValue\">/<span class=\"DetailsSummary--lowTempValue--2tesQ\" data-testid=\"TemperatureValue\">26°</span></span></div><div class=\"DetailsSummary--condition--2JmHb\" data-testid=\"wxIcon\"><svg aria-hidden=\"true\" class=\"DetailsSummary--wxIcon--1_A0F Icon--icon--2aW0V Icon--fullTheme--3Fc-5\" data-testid=\"Icon\" set=\"weather\" skycode=\"5\" theme=\"full\" viewbox=\"0 0 200 200\"><title>Rain and Snow</title><use transform=\"matrix(.18 0 0 .18 49.5 122.4)\" xlink:href=\"#svg-symbol-snowflake\"></use><use transform=\"matrix(1.7 0 0 2 -27 -120)\" xlink:href=\"#svg-symbol-drop\"></use><use transform=\"translate(65 2)\" xlink:href=\"#svg-symbol-drop\"></use><use transform=\"translate(0 -41)\" xlink:href=\"#svg-symbol-cloud\"></use></svg></div><div class=\"DetailsSummary--precip--1a98O\" data-testid=\"Precip\"><svg aria-label=\"Chance of Precip\" class=\"DetailsSummary--precipIcon--1Cgzh Icon--icon--2aW0V Icon--actionTheme--1kPn8\" data-testid=\"Icon\" name=\"precip-rain-single\" set=\"heads-up\" theme=\"action\" viewbox=\"0 -2 5 10\"><title>Rain</title><path d=\"M4.7329.0217c-.1848-.059-.3855.0064-.4803.148L.2731 5.1191c-.0814.0922-.1501.1961-.196.3108-.2469.6009.1185 1.2697.8156 1.4943.6914.226 1.447-.0712 1.7-.6585L4.9662.4987l.0111-.0282c.073-.1807-.036-.379-.2444-.4488z\"></path></svg><span data-testid=\"PercentageValue\">80%</span></div></div><svg class=\"Disclosure--SummaryIcon--m5hw- Icon--icon--2aW0V\" data-testid=\"Icon\" name=\"caret-down\" set=\"ui\" viewbox=\"0 0 24 24\"><title>Arrow Down</title><path d=\"M12 16.086l7.293-7.293a1 1 0 1 1 1.414 1.414l-8 8a1 1 0 0 1-1.414 0l-8-8a1 1 0 1 1 1.414-1.414L12 16.086z\"></path></svg></div></summary><div class=\"DaypartDetails--Content--2Yg3_ DaypartDetails--contentGrid--2_szQ\"><div class=\"DailyContent--DailyContent--1yRkH\" data-testid=\"DailyContent\"><h3 class=\"DailyContent--daypartName--3emSU\"><span class=\"DailyContent--daypartDate--3VGlz\">Tue 28</span> | Day</h3><div class=\"DailyContent--ConditionSummary--2gdfo\" data-testid=\"ConditionsSummary\"><div><span class=\"DailyContent--temp--1s3a7\" data-testid=\"TemperatureValue\">38°</span></div><div class=\"DailyContent--Condition--1zRBJ\" data-testid=\"weatherIcon\"><svg aria-label=\"Rain/Snow\" class=\"DailyContent--weatherIcon--Kh7Ru Icon--icon--2aW0V Icon--fullTheme--3Fc-5\" data-testid=\"Icon\" set=\"weather\" skycode=\"5\" theme=\"full\" viewbox=\"0 0 200 200\"><title>Rain and Snow</title><use transform=\"matrix(.18 0 0 .18 49.5 122.4)\" xlink:href=\"#svg-symbol-snowflake\"></use><use transform=\"matrix(1.7 0 0 2 -27 -120)\" xlink:href=\"#svg-symbol-drop\"></use><use transform=\"translate(65 2)\" xlink:href=\"#svg-symbol-drop\"></use><use transform=\"translate(0 -41)\" xlink:href=\"#svg-symbol-cloud\"></use></svg></div><div class=\"DailyContent--dataPoints--3wPp2\"><div class=\"DailyContent--label--30_yg\"><div class=\"DailyContent--precipIconBlock--3GSXG\"><svg aria-label=\"Chance of Precip\" class=\"DailyContent--precipIcon--tsI9h precip Icon--icon--2aW0V Icon--actionTheme--1kPn8\" data-testid=\"Icon\" name=\"precip-wintry-mix\" set=\"heads-up\" theme=\"action\" viewbox=\"0 0 24 24\"><title>Wintry Mix</title><g fill=\"currentColor\" fill-rule=\"evenodd\"><path d=\"M8.757 14.877l-1.6.43-1.41-.822 1.41-.816 1.608.439c.099.023.206-.039.228-.131a.191.191 0 00-.091-.215l-.99-.57.899-.692a.194.194 0 00.06-.223.193.193 0 00-.175-.116c-.023 0-.045.008-.076.016l-1.052.438v-1.138a.193.193 0 00-.137-.2c-.099-.023-.206.03-.228.138l-.427 1.616-1.41.823v-1.639l1.181-1.192a.187.187 0 000-.261.196.196 0 00-.229-.031l-.99.577-.153-1.147A.188.188 0 004.992 10c-.106.008-.175.077-.183.161L4.665 11.3l-.983-.57c-.077-.038-.176-.03-.237.032-.068.069-.068.192.008.269l1.173 1.184v1.639l-1.41-.823-.434-1.623c-.03-.1-.13-.162-.228-.131a.19.19 0 00-.138.185v1.153l-1.051-.438a.19.19 0 00-.244.1.195.195 0 00.06.223l.908.692-.983.57c-.084.046-.122.13-.1.215.023.085.1.138.184.138.015 0 .03 0 .053-.007l1.6-.431 1.41.815-1.387.823-1.608-.438c-.099-.023-.206.038-.229.13a.192.192 0 00.092.216l.99.57-.899.692a.187.187 0 00-.068.223c.03.069.099.115.175.115.023 0 .046-.008.076-.015l1.052-.439v1.146c0 .085.053.162.137.185.1.03.206-.03.229-.139l.427-1.615 1.41-.815v1.646l-1.182 1.192a.18.18 0 00-.053.131c0 .046.023.1.053.13.061.062.16.07.229.032l.983-.57.152 1.147a.188.188 0 00.183.161c.107-.015.176-.077.183-.161l.145-1.14.983.57c.076.039.175.031.236-.03.077-.07.077-.193-.007-.277l-1.182-1.185v-1.639l1.41.816.435 1.623c.023.1.13.162.228.13a.189.189 0 00.137-.184v-1.146l1.06.438a.219.219 0 00.068.016.192.192 0 00.176-.116.195.195 0 00-.061-.223l-.907-.692.983-.57a.187.187 0 00.091-.215.195.195 0 00-.182-.146c-.016 0-.031 0-.054.008z\" stroke=\"currentColor\" stroke-width=\".25\"></path><path d=\"M15.986.532c.06-.23-.087-.46-.331-.52a.469.469 0 00-.526.242h-.001L11.23 6.82c-.08.123-.146.26-.183.405-.206.768.29 1.543 1.106 1.73.81.191 1.63-.268 1.844-1.02h.002L15.977.568l.01-.036M21.81 4.331l-9.361 15.45a2.64 2.64 0 00-.372.818c-.391 1.531.748 3.027 2.549 3.342 1.787.314 3.552-.658 3.961-2.173l2.021-7.872c.004-.009 2.374-9.216 2.374-9.216.083-.33-.131-.61-.466-.67-.299-.051-.59.089-.706.321z\"></path></g></svg></div><span class=\"DailyContent--value--1Jers\" data-testid=\"PercentageValue\">80%</span></div><div class=\"DailyContent--label--30_yg\"><svg arialabel=\"Wind\" class=\"DailyContent--windIcon--6t0bg Icon--icon--2aW0V Icon--actionTheme--1kPn8\" data-testid=\"Icon\" name=\"wind\" set=\"current-conditions\" theme=\"action\" viewbox=\"0 0 24 24\"><title>Wind</title><path d=\"M6 8.67h5.354c1.457 0 2.234-1.158 2.234-2.222S12.687 4.4 11.354 4.4c-.564 0-1.023.208-1.366.488M3 11.67h15.54c1.457 0 2.235-1.158 2.235-2.222S19.873 7.4 18.54 7.4c-.747 0-1.311.365-1.663.78M6 15.4h9.389c1.457 0 2.234 1.159 2.234 2.223 0 1.064-.901 2.048-2.234 2.048a2.153 2.153 0 0 1-1.63-.742\" fill=\"none\" stroke=\"currentColor\" stroke-linecap=\"round\" stroke-width=\"2\"></path></svg><span class=\"Wind--windWrapper--3Ly7c DailyContent--value--1Jers\" data-testid=\"Wind\">NE <!-- -->9 mph</span></div></div></div><p class=\"DailyContent--narrative--3Ti6_\" data-testid=\"wxPhrase\">Snow during the morning will give way to a mixture of rain and snow during the afternoon. High 38F. Winds NE at 5 to 10 mph. Chance of precip 80%. Snowfall around one inch.</p></div><div class=\"DaypartDetails--DetailsTable--1zK4r DaypartDetails--col1--2TSAK DetailsTable--twoColumn--1p6yA\" data-cq-breakpoints=\"{}\" data-cq-observe=\"true\"><ul class=\"DetailsTable--DetailsTable--3Bt2T\" data-testid=\"DetailsTable\"><li class=\"DetailsTable--listItem--Z-5Vi\" data-testid=\"HumiditySection\"><svg class=\"DetailsTable--icon--24dnM Icon--icon--2aW0V Icon--actionTheme--1kPn8\" data-testid=\"Icon\" name=\"humidity\" set=\"current-conditions\" theme=\"action\" viewbox=\"0 0 24 24\"><title>Humidity</title><path d=\"M11.743 17.912a4.182 4.182 0 0 1-2.928-1.182 3.972 3.972 0 0 1-.614-4.962.743.743 0 0 1 .646-.349c.234 0 .476.095.66.275l4.467 4.355c.385.376.39.998-.076 1.275a4.216 4.216 0 0 1-2.155.588M11.855 4c.316 0 .61.14.828.395.171.2.36.416.562.647 1.857 2.126 4.965 5.684 4.965 8.73 0 3.416-2.85 6.195-6.353 6.195-3.505 0-6.357-2.78-6.357-6.195 0-3.082 2.921-6.406 4.854-8.605.242-.275.47-.535.673-.772A1.08 1.08 0 0 1 11.855 4\" fill-rule=\"evenodd\"></path></svg><div class=\"DetailsTable--field--CPpc_\"><span class=\"DetailsTable--label--1qspW\" data-testid=\"HumidityTitle\">Humidity</span><span class=\"DetailsTable--value--2YD0-\" data-testid=\"PercentageValue\">89%</span></div></li><li class=\"DetailsTable--listItem--Z-5Vi\" data-testid=\"uvIndexSection\"><svg class=\"DetailsTable--icon--24dnM Icon--icon--2aW0V Icon--actionTheme--1kPn8\" data-testid=\"Icon\" name=\"uv\" set=\"current-conditions\" theme=\"action\" viewbox=\"0 0 24 24\"><title>UV Level</title><path d=\"M7.4 5.598a.784.784 0 0 1 .25-.92c.335-.256.824-.197 1.02.062.066.063.066.063.08.085l2.406 3.152-.626.238a3.983 3.983 0 0 0-1.097.633l-.522.424L7.4 5.598zm4.539 2.358c-.21 0-.418.017-.625.05l-.664.106.09-.666.438-3.266c.013-.072.013-.072.012-.057a.783.783 0 0 1 .666-.616.78.78 0 0 1 .872.639l.006.038.507 3.933-.662-.108a3.957 3.957 0 0 0-.64-.053zm-7.781 3.19l.026-.004 3.934-.507-.108.662a3.98 3.98 0 0 0-.003 1.266l.105.664-.665-.09-3.265-.439a.784.784 0 0 1-.676-.679c-.054-.42.238-.809.63-.869l.022-.004zm11.504-.617a3.98 3.98 0 0 0-.632-1.097l-.425-.522.623-.256 3.056-1.256a.787.787 0 0 1 .916.253c.256.337.199.817-.104 1.063l-.045.037-3.151 2.405-.238-.627zm-1.205-1.672a3.984 3.984 0 0 0-1.095-.637l-.626-.24.41-.532 2.008-2.602c.059-.07.059-.07.046-.052a.78.78 0 0 1 1.306.227c.076.185.079.39.02.54l-.021.06-1.528 3.662-.52-.426zM4.595 7.793c.162-.387.611-.58.971-.441.017.004.017.004.055.02L9.283 8.9l-.425.52a3.985 3.985 0 0 0-.636 1.094l-.24.627-3.144-2.425a.784.784 0 0 1-.243-.924zm14.443 7.367c.054.045.054.045.044.04a.784.784 0 0 1 .199.884c-.163.386-.61.58-.964.443-.024-.006-.024-.006-.062-.022l-3.662-1.529.426-.52a3.98 3.98 0 0 0 .636-1.094l.241-.626 3.142 2.424zm1.332-3.303c.053.422-.239.809-.63.87l-.035.006-3.945.508.108-.662a3.999 3.999 0 0 0 .003-1.266l-.105-.663.665.09 3.272.44c.068.012.068.012.052.01a.784.784 0 0 1 .615.667zm-3.894 6.421c.024.068.024.068.017.053a.786.786 0 0 1-.27.87c-.332.25-.816.194-1.047-.091-.022-.023-.022-.023-.05-.058l-2.406-3.154.626-.237a3.977 3.977 0 0 0 1.097-.632l.523-.425 1.51 3.674zm-8.26-4.932c.151.397.365.767.633 1.097l.424.522-.622.256-3.054 1.255a.787.787 0 0 1-.92-.25.781.781 0 0 1-.154-.58c.027-.199.127-.379.227-.452.045-.046.045-.046.075-.069l3.153-2.406.238.627zm3.723 2.572c.209 0 .417-.016.625-.049l.662-.103-.089.664-.438 3.26-.012.062a.785.785 0 0 1-.666.618c-.048.005-.048.005-.101.006-.386 0-.714-.28-.764-.612-.01-.043-.01-.043-.014-.072l-.507-3.934.662.108c.213.035.427.052.642.052zM7.366 18.27l.006-.015L8.9 14.592l.52.426a3.99 3.99 0 0 0 1.094.636l.626.241-.41.531-2.012 2.609-.04.046a.788.788 0 0 1-.886.2.787.787 0 0 1-.428-1.011z\"></path><path d=\"M11.911 14.322a2.411 2.411 0 1 0 0-4.822 2.411 2.411 0 0 0 0 4.822zm0 2a4.411 4.411 0 1 1 0-8.822 4.411 4.411 0 0 1 0 8.822z\"></path></svg><div class=\"DetailsTable--field--CPpc_\"><span class=\"DetailsTable--label--1qspW\" data-testid=\"uvIndexTitle\">UV Index</span><span class=\"DetailsTable--value--2YD0-\" data-testid=\"UVIndexValue\">2 of 10</span></div></li><li class=\"DetailsTable--listItem--Z-5Vi\" data-testid=\"SunriseSection\"><svg class=\"DetailsTable--icon--24dnM Icon--icon--2aW0V Icon--actionTheme--1kPn8\" data-testid=\"Icon\" name=\"sunrise-sun\" set=\"current-conditions\" theme=\"action\" viewbox=\"0 0 24 24\"><title>Sun Rise</title><path d=\"M12.003 16.125v-2.21m-5.602 2.129l1.69 1.441m9.237-1.489l-1.4 1.63\" stroke=\"currentColor\" stroke-linecap=\"round\" stroke-width=\"2\"></path><path d=\"M4.05 20.938h2.48m11.27 0h2.481\" stroke=\"currentColor\" stroke-linecap=\"round\" stroke-linejoin=\"round\" stroke-width=\"2\"></path><path d=\"M12 9.938V4.426M8.563 6.5L12 3.062M15.438 6.5L12 3.062\" stroke=\"currentColor\" stroke-linecap=\"round\" stroke-width=\"2\"></path><path d=\"M12.02 21.605h3.059c.421 0 .543-.229.543-.455 0-1.735-1.613-3.142-3.602-3.142-1.99 0-3.603 1.407-3.603 3.142 0 .266.1.455.529.455h3.074z\"></path></svg><div class=\"DetailsTable--field--CPpc_\"><span class=\"DetailsTable--label--1qspW\" data-testid=\"SunriseTitle\">Sunrise</span><span class=\"DetailsTable--value--2YD0-\" data-testid=\"SunriseTime\">6:25 am</span></div></li><li class=\"DetailsTable--listItem--Z-5Vi\" data-testid=\"SunsetSection\"><svg class=\"DetailsTable--icon--24dnM Icon--icon--2aW0V Icon--actionTheme--1kPn8\" data-testid=\"Icon\" name=\"sunset-sun\" set=\"current-conditions\" theme=\"action\" viewbox=\"0 0 24 24\"><title>Sunset</title><path d=\"M12.003 15.781v-2.21M6.401 15.7l1.69 1.442m9.237-1.49l-1.4 1.63\" stroke=\"currentColor\" stroke-linecap=\"round\" stroke-width=\"2\"></path><path d=\"M4.05 20.594h2.48m11.27 0h2.481\" stroke=\"currentColor\" stroke-linecap=\"round\" stroke-linejoin=\"round\" stroke-width=\"2\"></path><path d=\"M12 3.063v5.51M8.563 6.5L12 9.938M15.438 6.5L12 9.938\" stroke=\"currentColor\" stroke-linecap=\"round\" stroke-width=\"2\"></path><path d=\"M12.02 21.261h3.059c.421 0 .543-.229.543-.455 0-1.735-1.613-3.142-3.602-3.142-1.99 0-3.603 1.407-3.603 3.142 0 .266.1.455.529.455h3.074z\"></path></svg><div class=\"DetailsTable--field--CPpc_\"><span class=\"DetailsTable--label--1qspW\" data-testid=\"SunsetTitle\">Sunset</span><span class=\"DetailsTable--value--2YD0-\" data-testid=\"SunsetTime\">5:37 pm</span></div></li></ul></div><div class=\"DailyContent--DailyContent--1yRkH\" data-testid=\"DailyContent\"><h3 class=\"DailyContent--daypartName--3emSU\"><span class=\"DailyContent--daypartDate--3VGlz\">Tue 28</span> | Night</h3><div class=\"DailyContent--ConditionSummary--2gdfo\" data-testid=\"ConditionsSummary\"><div><span class=\"DailyContent--temp--1s3a7\" data-testid=\"TemperatureValue\">26°</span></div><div class=\"DailyContent--Condition--1zRBJ\" data-testid=\"weatherIcon\"><svg aria-label=\"Clouds Early/Clearing Late\" class=\"DailyContent--weatherIcon--Kh7Ru Icon--icon--2aW0V Icon--fullTheme--3Fc-5\" data-testid=\"Icon\" set=\"weather\" skycode=\"29\" theme=\"full\" viewbox=\"0 0 200 200\"><title>Partly Cloudy Night</title><use mask=\"url(#partly-cloudy-night-mask)\" transform=\"matrix(1.55 0 0 1.55 -53 28)\" xlink:href=\"#svg-symbol-moon\"></use><use transform=\"matrix(.85 0 0 .82 26 2)\" xlink:href=\"#svg-symbol-cloud\"></use></svg></div><div class=\"DailyContent--dataPoints--3wPp2\"><div class=\"DailyContent--label--30_yg\"><div class=\"DailyContent--precipIconBlock--3GSXG\"><svg aria-label=\"Chance of Precip\" class=\"DailyContent--precipIcon--tsI9h precip Icon--icon--2aW0V Icon--actionTheme--1kPn8\" data-testid=\"Icon\" name=\"precip-wintry-mix\" set=\"heads-up\" theme=\"action\" viewbox=\"0 0 24 24\"><title>Wintry Mix</title><g fill=\"currentColor\" fill-rule=\"evenodd\"><path d=\"M8.757 14.877l-1.6.43-1.41-.822 1.41-.816 1.608.439c.099.023.206-.039.228-.131a.191.191 0 00-.091-.215l-.99-.57.899-.692a.194.194 0 00.06-.223.193.193 0 00-.175-.116c-.023 0-.045.008-.076.016l-1.052.438v-1.138a.193.193 0 00-.137-.2c-.099-.023-.206.03-.228.138l-.427 1.616-1.41.823v-1.639l1.181-1.192a.187.187 0 000-.261.196.196 0 00-.229-.031l-.99.577-.153-1.147A.188.188 0 004.992 10c-.106.008-.175.077-.183.161L4.665 11.3l-.983-.57c-.077-.038-.176-.03-.237.032-.068.069-.068.192.008.269l1.173 1.184v1.639l-1.41-.823-.434-1.623c-.03-.1-.13-.162-.228-.131a.19.19 0 00-.138.185v1.153l-1.051-.438a.19.19 0 00-.244.1.195.195 0 00.06.223l.908.692-.983.57c-.084.046-.122.13-.1.215.023.085.1.138.184.138.015 0 .03 0 .053-.007l1.6-.431 1.41.815-1.387.823-1.608-.438c-.099-.023-.206.038-.229.13a.192.192 0 00.092.216l.99.57-.899.692a.187.187 0 00-.068.223c.03.069.099.115.175.115.023 0 .046-.008.076-.015l1.052-.439v1.146c0 .085.053.162.137.185.1.03.206-.03.229-.139l.427-1.615 1.41-.815v1.646l-1.182 1.192a.18.18 0 00-.053.131c0 .046.023.1.053.13.061.062.16.07.229.032l.983-.57.152 1.147a.188.188 0 00.183.161c.107-.015.176-.077.183-.161l.145-1.14.983.57c.076.039.175.031.236-.03.077-.07.077-.193-.007-.277l-1.182-1.185v-1.639l1.41.816.435 1.623c.023.1.13.162.228.13a.189.189 0 00.137-.184v-1.146l1.06.438a.219.219 0 00.068.016.192.192 0 00.176-.116.195.195 0 00-.061-.223l-.907-.692.983-.57a.187.187 0 00.091-.215.195.195 0 00-.182-.146c-.016 0-.031 0-.054.008z\" stroke=\"currentColor\" stroke-width=\".25\"></path><path d=\"M15.986.532c.06-.23-.087-.46-.331-.52a.469.469 0 00-.526.242h-.001L11.23 6.82c-.08.123-.146.26-.183.405-.206.768.29 1.543 1.106 1.73.81.191 1.63-.268 1.844-1.02h.002L15.977.568l.01-.036M21.81 4.331l-9.361 15.45a2.64 2.64 0 00-.372.818c-.391 1.531.748 3.027 2.549 3.342 1.787.314 3.552-.658 3.961-2.173l2.021-7.872c.004-.009 2.374-9.216 2.374-9.216.083-.33-.131-.61-.466-.67-.299-.051-.59.089-.706.321z\"></path></g></svg></div><span class=\"DailyContent--value--1Jers\" data-testid=\"PercentageValue\">24%</span></div><div class=\"DailyContent--label--30_yg\"><svg arialabel=\"Wind\" class=\"DailyContent--windIcon--6t0bg Icon--icon--2aW0V Icon--actionTheme--1kPn8\" data-testid=\"Icon\" name=\"wind\" set=\"current-conditions\" theme=\"action\" viewbox=\"0 0 24 24\"><title>Wind</title><path d=\"M6 8.67h5.354c1.457 0 2.234-1.158 2.234-2.222S12.687 4.4 11.354 4.4c-.564 0-1.023.208-1.366.488M3 11.67h15.54c1.457 0 2.235-1.158 2.235-2.222S19.873 7.4 18.54 7.4c-.747 0-1.311.365-1.663.78M6 15.4h9.389c1.457 0 2.234 1.159 2.234 2.223 0 1.064-.901 2.048-2.234 2.048a2.153 2.153 0 0 1-1.63-.742\" fill=\"none\" stroke=\"currentColor\" stroke-linecap=\"round\" stroke-width=\"2\"></path></svg><span class=\"Wind--windWrapper--3Ly7c DailyContent--value--1Jers\" data-testid=\"Wind\">NW <!-- -->5 mph</span></div></div></div><p class=\"DailyContent--narrative--3Ti6_\" data-testid=\"wxPhrase\">Mostly cloudy early, then clearing later on. Low 26F. Winds light and variable.</p></div><div class=\"DaypartDetails--DetailsTable--1zK4r DaypartDetails--col2--3WBrx DetailsTable--twoColumn--1p6yA\" data-cq-breakpoints=\"{}\" data-cq-observe=\"true\"><ul class=\"DetailsTable--DetailsTable--3Bt2T\" data-testid=\"DetailsTable\"><li class=\"DetailsTable--listItem--Z-5Vi\" data-testid=\"HumiditySection\"><svg class=\"DetailsTable--icon--24dnM Icon--icon--2aW0V Icon--actionTheme--1kPn8\" data-testid=\"Icon\" name=\"humidity\" set=\"current-conditions\" theme=\"action\" viewbox=\"0 0 24 24\"><title>Humidity</title><path d=\"M11.743 17.912a4.182 4.182 0 0 1-2.928-1.182 3.972 3.972 0 0 1-.614-4.962.743.743 0 0 1 .646-.349c.234 0 .476.095.66.275l4.467 4.355c.385.376.39.998-.076 1.275a4.216 4.216 0 0 1-2.155.588M11.855 4c.316 0 .61.14.828.395.171.2.36.416.562.647 1.857 2.126 4.965 5.684 4.965 8.73 0 3.416-2.85 6.195-6.353 6.195-3.505 0-6.357-2.78-6.357-6.195 0-3.082 2.921-6.406 4.854-8.605.242-.275.47-.535.673-.772A1.08 1.08 0 0 1 11.855 4\" fill-rule=\"evenodd\"></path></svg><div class=\"DetailsTable--field--CPpc_\"><span class=\"DetailsTable--label--1qspW\" data-testid=\"HumidityTitle\">Humidity</span><span class=\"DetailsTable--value--2YD0-\" data-testid=\"PercentageValue\">89%</span></div></li><li class=\"DetailsTable--listItem--Z-5Vi\" data-testid=\"uvIndexSection\"><svg class=\"DetailsTable--icon--24dnM Icon--icon--2aW0V Icon--actionTheme--1kPn8\" data-testid=\"Icon\" name=\"uv\" set=\"current-conditions\" theme=\"action\" viewbox=\"0 0 24 24\"><title>UV Level</title><path d=\"M7.4 5.598a.784.784 0 0 1 .25-.92c.335-.256.824-.197 1.02.062.066.063.066.063.08.085l2.406 3.152-.626.238a3.983 3.983 0 0 0-1.097.633l-.522.424L7.4 5.598zm4.539 2.358c-.21 0-.418.017-.625.05l-.664.106.09-.666.438-3.266c.013-.072.013-.072.012-.057a.783.783 0 0 1 .666-.616.78.78 0 0 1 .872.639l.006.038.507 3.933-.662-.108a3.957 3.957 0 0 0-.64-.053zm-7.781 3.19l.026-.004 3.934-.507-.108.662a3.98 3.98 0 0 0-.003 1.266l.105.664-.665-.09-3.265-.439a.784.784 0 0 1-.676-.679c-.054-.42.238-.809.63-.869l.022-.004zm11.504-.617a3.98 3.98 0 0 0-.632-1.097l-.425-.522.623-.256 3.056-1.256a.787.787 0 0 1 .916.253c.256.337.199.817-.104 1.063l-.045.037-3.151 2.405-.238-.627zm-1.205-1.672a3.984 3.984 0 0 0-1.095-.637l-.626-.24.41-.532 2.008-2.602c.059-.07.059-.07.046-.052a.78.78 0 0 1 1.306.227c.076.185.079.39.02.54l-.021.06-1.528 3.662-.52-.426zM4.595 7.793c.162-.387.611-.58.971-.441.017.004.017.004.055.02L9.283 8.9l-.425.52a3.985 3.985 0 0 0-.636 1.094l-.24.627-3.144-2.425a.784.784 0 0 1-.243-.924zm14.443 7.367c.054.045.054.045.044.04a.784.784 0 0 1 .199.884c-.163.386-.61.58-.964.443-.024-.006-.024-.006-.062-.022l-3.662-1.529.426-.52a3.98 3.98 0 0 0 .636-1.094l.241-.626 3.142 2.424zm1.332-3.303c.053.422-.239.809-.63.87l-.035.006-3.945.508.108-.662a3.999 3.999 0 0 0 .003-1.266l-.105-.663.665.09 3.272.44c.068.012.068.012.052.01a.784.784 0 0 1 .615.667zm-3.894 6.421c.024.068.024.068.017.053a.786.786 0 0 1-.27.87c-.332.25-.816.194-1.047-.091-.022-.023-.022-.023-.05-.058l-2.406-3.154.626-.237a3.977 3.977 0 0 0 1.097-.632l.523-.425 1.51 3.674zm-8.26-4.932c.151.397.365.767.633 1.097l.424.522-.622.256-3.054 1.255a.787.787 0 0 1-.92-.25.781.781 0 0 1-.154-.58c.027-.199.127-.379.227-.452.045-.046.045-.046.075-.069l3.153-2.406.238.627zm3.723 2.572c.209 0 .417-.016.625-.049l.662-.103-.089.664-.438 3.26-.012.062a.785.785 0 0 1-.666.618c-.048.005-.048.005-.101.006-.386 0-.714-.28-.764-.612-.01-.043-.01-.043-.014-.072l-.507-3.934.662.108c.213.035.427.052.642.052zM7.366 18.27l.006-.015L8.9 14.592l.52.426a3.99 3.99 0 0 0 1.094.636l.626.241-.41.531-2.012 2.609-.04.046a.788.788 0 0 1-.886.2.787.787 0 0 1-.428-1.011z\"></path><path d=\"M11.911 14.322a2.411 2.411 0 1 0 0-4.822 2.411 2.411 0 0 0 0 4.822zm0 2a4.411 4.411 0 1 1 0-8.822 4.411 4.411 0 0 1 0 8.822z\"></path></svg><div class=\"DetailsTable--field--CPpc_\"><span class=\"DetailsTable--label--1qspW\" data-testid=\"uvIndexTitle\">UV Index</span><span class=\"DetailsTable--value--2YD0-\" data-testid=\"UVIndexValue\">0 of 10</span></div></li><li class=\"DetailsTable--listItem--Z-5Vi\" data-testid=\"MoonriseSection\"><svg class=\"DetailsTable--icon--24dnM Icon--icon--2aW0V Icon--actionTheme--1kPn8\" data-testid=\"Icon\" name=\"moonrise\" set=\"current-conditions\" theme=\"action\" viewbox=\"0 0 24 24\"><title>Moon Rise</title><path d=\"M12 17.186c3.59 0 6.5 2.542 6.5 5.678 0 .409-.22.822-.98.822H6.454c-.773 0-.955-.342-.955-.822 0-3.136 2.91-5.678 6.5-5.678zM12.062.202c.291.014.578.133.8.355l4.19 4.19a1.219 1.219 0 11-1.724 1.723l-2.11-2.11v5.438a1.219 1.219 0 01-2.43.124l-.007-.124V4.36L8.672 6.47a1.219 1.219 0 01-1.624.089l-.1-.089a1.219 1.219 0 01-.088-1.625l.089-.099 4.19-4.189c.221-.222.508-.34.799-.355h.124z\"></path></svg><div class=\"DetailsTable--field--CPpc_\"><span class=\"DetailsTable--label--1qspW\" data-testid=\"MoonriseTitle\">Moonrise</span><span class=\"DetailsTable--value--2YD0-\" data-testid=\"MoonriseTime\">11:03 am</span><div class=\"DetailsTable--moonPhraseWrapper--uNpjj\"><svg class=\"DetailsTable--moonIcon--6c7bX Icon--icon--2aW0V Icon--fullTheme--3Fc-5\" data-testid=\"Icon\" height=\"1024\" name=\"phase-8\" set=\"astro\" theme=\"full\" viewbox=\"0 0 1024 1024\" width=\"1024\"><title>Moon Phase - Day 8</title><path d=\"M515.73 57.54q-41.024 0-70.06 135.326t-29.036 325.528 29.036 325.528 70.06 135.326q190.202 0 325.794-135.326t135.592-325.528-135.592-325.528T515.73 57.54zm1.065 956.87q-205.12 0-350.835-145.715T20.245 518.393 165.96 167.825 516.795 21.844q204.587 0 350.302 145.981t145.715 350.568-145.715 350.302-350.302 145.715z\"></path></svg><span class=\"DetailsTable--moonPhrase--2rv06\" data-testid=\"moonPhase\">Waxing Gibbous</span></div></div></li><li class=\"DetailsTable--listItem--Z-5Vi\" data-testid=\"MoonsetSection\"><svg class=\"DetailsTable--icon--24dnM Icon--icon--2aW0V Icon--actionTheme--1kPn8\" data-testid=\"Icon\" name=\"moonset\" set=\"current-conditions\" theme=\"action\" viewbox=\"0 0 24 24\"><title>Moon Set</title><path d=\"M12 17.186c3.59 0 6.5 2.542 6.5 5.678 0 .409-.22.822-.98.822H6.454c-.773 0-.955-.342-.955-.822 0-3.136 2.91-5.678 6.5-5.678zM12 .2c.631 0 1.15.48 1.212 1.094l.007.125-.001 5.436 2.11-2.109a1.219 1.219 0 011.624-.088l.1.088c.443.445.473 1.146.088 1.625l-.089.099-4.19 4.19c-.19.19-.427.304-.674.342l-.125.013h-.124a1.214 1.214 0 01-.8-.356L6.948 6.47a1.219 1.219 0 111.724-1.724l2.109 2.109V1.419C10.781.746 11.327.2 12 .2z\"></path></svg><div class=\"DetailsTable--field--CPpc_\"><span class=\"DetailsTable--label--1qspW\" data-testid=\"MoonsetTitle\">Moonset</span><span class=\"DetailsTable--value--2YD0-\" data-testid=\"MoonsetTime\">2:19 am</span></div></li></ul></div></div></details>"
      ]
     },
     "execution_count": 2,
     "metadata": {},
     "output_type": "execute_result"
    }
   ],
   "source": [
    "day1 = soup.find('details', id = 'detailIndex1')\n",
    "day1"
   ]
  },
  {
   "cell_type": "markdown",
   "metadata": {
    "deletable": false,
    "editable": false
   },
   "source": [
    "Within this element, the date is in the *h2* tag:"
   ]
  },
  {
   "cell_type": "code",
   "execution_count": 8,
   "metadata": {},
   "outputs": [
    {
     "data": {
      "text/plain": [
       "'Tue 28'"
      ]
     },
     "execution_count": 8,
     "metadata": {},
     "output_type": "execute_result"
    }
   ],
   "source": [
    "day1.h3.text"
   ]
  },
  {
   "cell_type": "code",
   "execution_count": 6,
   "metadata": {
    "deletable": false,
    "editable": false
   },
   "outputs": [
    {
     "ename": "AttributeError",
     "evalue": "'NoneType' object has no attribute 'text'",
     "output_type": "error",
     "traceback": [
      "\u001b[0;31m---------------------------------------------------------------------------\u001b[0m",
      "\u001b[0;31mAttributeError\u001b[0m                            Traceback (most recent call last)",
      "\u001b[0;32m/var/folders/fg/20qjr3zj73q_m0k3qy44x0n00000gn/T/ipykernel_3309/2885205038.py\u001b[0m in \u001b[0;36m<module>\u001b[0;34m\u001b[0m\n\u001b[0;32m----> 1\u001b[0;31m \u001b[0mday1\u001b[0m\u001b[0;34m.\u001b[0m\u001b[0mh2\u001b[0m\u001b[0;34m.\u001b[0m\u001b[0mtext\u001b[0m\u001b[0;34m\u001b[0m\u001b[0;34m\u001b[0m\u001b[0m\n\u001b[0m",
      "\u001b[0;31mAttributeError\u001b[0m: 'NoneType' object has no attribute 'text'"
     ]
    }
   ],
   "source": [
    "day1.h2.text"
   ]
  },
  {
   "cell_type": "markdown",
   "metadata": {
    "deletable": false,
    "editable": false
   },
   "source": [
    "Within this element, the high temperature is in the first *span* tag:"
   ]
  },
  {
   "cell_type": "code",
   "execution_count": 5,
   "metadata": {
    "deletable": false,
    "editable": false
   },
   "outputs": [
    {
     "data": {
      "text/plain": [
       "'38°'"
      ]
     },
     "execution_count": 5,
     "metadata": {},
     "output_type": "execute_result"
    }
   ],
   "source": [
    "day1.span.text"
   ]
  },
  {
   "cell_type": "markdown",
   "metadata": {
    "deletable": false,
    "editable": false
   },
   "source": [
    "Now extract the data, creating a list containing the days and a list containing the high temps. For the high temps, we remove the degree symbol and convert to an integer so that it can be graphed. We also ensure that the temp is a digit, to prevent any errors in the conversion."
   ]
  },
  {
   "cell_type": "code",
   "execution_count": 9,
   "metadata": {},
   "outputs": [
    {
     "name": "stdout",
     "output_type": "stream",
     "text": [
      "Tue 28: 38°\n",
      "Wed 01: 47°\n",
      "Thu 02: 54°\n",
      "Fri 03: 39°\n",
      "Sat 04: 38°\n",
      "Sun 05: 39°\n",
      "Mon 06: 42°\n",
      "Tue 07: 45°\n",
      "Wed 08: 40°\n",
      "Thu 09: 41°\n",
      "Fri 10: 40°\n",
      "Sat 11: 43°\n",
      "Sun 12: 42°\n",
      "Mon 13: 45°\n"
     ]
    }
   ],
   "source": [
    "details = soup.find_all('details')\n",
    "days = []\n",
    "temps = []\n",
    "\n",
    "# for each detail (starting with the 2nd one)\n",
    "for d in details[1:] :\n",
    "    \n",
    "    # extract the date and the high temp\n",
    "    date = d.h3.text\n",
    "    temp = d.span.text\n",
    "    \n",
    "    # print the information\n",
    "    print(date, ': ', temp, sep = '')\n",
    "\n",
    "    # format temp and add to the list\n",
    "    temp = temp.replace('°', '')\n",
    "    if temp.isdigit() :\n",
    "        days.append(date)\n",
    "        temps.append(int(temp))"
   ]
  },
  {
   "cell_type": "code",
   "execution_count": 7,
   "metadata": {
    "deletable": false,
    "editable": false
   },
   "outputs": [
    {
     "ename": "AttributeError",
     "evalue": "'NoneType' object has no attribute 'text'",
     "output_type": "error",
     "traceback": [
      "\u001b[0;31m---------------------------------------------------------------------------\u001b[0m",
      "\u001b[0;31mAttributeError\u001b[0m                            Traceback (most recent call last)",
      "\u001b[0;32m/var/folders/fg/20qjr3zj73q_m0k3qy44x0n00000gn/T/ipykernel_3309/656303598.py\u001b[0m in \u001b[0;36m<module>\u001b[0;34m\u001b[0m\n\u001b[1;32m      7\u001b[0m \u001b[0;34m\u001b[0m\u001b[0m\n\u001b[1;32m      8\u001b[0m     \u001b[0;31m# extract the date and the high temp\u001b[0m\u001b[0;34m\u001b[0m\u001b[0;34m\u001b[0m\u001b[0m\n\u001b[0;32m----> 9\u001b[0;31m     \u001b[0mdate\u001b[0m \u001b[0;34m=\u001b[0m \u001b[0md\u001b[0m\u001b[0;34m.\u001b[0m\u001b[0mh2\u001b[0m\u001b[0;34m.\u001b[0m\u001b[0mtext\u001b[0m\u001b[0;34m\u001b[0m\u001b[0;34m\u001b[0m\u001b[0m\n\u001b[0m\u001b[1;32m     10\u001b[0m     \u001b[0mtemp\u001b[0m \u001b[0;34m=\u001b[0m \u001b[0md\u001b[0m\u001b[0;34m.\u001b[0m\u001b[0mspan\u001b[0m\u001b[0;34m.\u001b[0m\u001b[0mtext\u001b[0m\u001b[0;34m\u001b[0m\u001b[0;34m\u001b[0m\u001b[0m\n\u001b[1;32m     11\u001b[0m \u001b[0;34m\u001b[0m\u001b[0m\n",
      "\u001b[0;31mAttributeError\u001b[0m: 'NoneType' object has no attribute 'text'"
     ]
    }
   ],
   "source": [
    "details = soup.find_all('details')\n",
    "days = []\n",
    "temps = []\n",
    "\n",
    "# for each detail (starting with the 2nd one)\n",
    "for d in details[1:] :\n",
    "    \n",
    "    # extract the date and the high temp\n",
    "    date = d.h2.text\n",
    "    temp = d.span.text\n",
    "    \n",
    "    # print the information\n",
    "    print(date, ': ', temp, sep = '')\n",
    "\n",
    "    # format temp and add to the list\n",
    "    temp = temp.replace('°', '')\n",
    "    if temp.isdigit() :\n",
    "        days.append(date)\n",
    "        temps.append(int(temp))"
   ]
  },
  {
   "cell_type": "markdown",
   "metadata": {
    "deletable": false,
    "editable": false
   },
   "source": [
    "We will visualize the data by creating a bar plot with days on the $x$-axis and high temperatures on the $y$-axis. In order to do this, we first create a *pandas* data frame (table). The data frame is created by specifying a dictionary, where the keys will be the column names and the values will be the values for the corresponding column."
   ]
  },
  {
   "cell_type": "code",
   "execution_count": 10,
   "metadata": {
    "deletable": false,
    "editable": false
   },
   "outputs": [
    {
     "data": {
      "text/html": [
       "<div>\n",
       "<style scoped>\n",
       "    .dataframe tbody tr th:only-of-type {\n",
       "        vertical-align: middle;\n",
       "    }\n",
       "\n",
       "    .dataframe tbody tr th {\n",
       "        vertical-align: top;\n",
       "    }\n",
       "\n",
       "    .dataframe thead th {\n",
       "        text-align: right;\n",
       "    }\n",
       "</style>\n",
       "<table border=\"1\" class=\"dataframe\">\n",
       "  <thead>\n",
       "    <tr style=\"text-align: right;\">\n",
       "      <th></th>\n",
       "      <th>days</th>\n",
       "      <th>hi_temp</th>\n",
       "    </tr>\n",
       "  </thead>\n",
       "  <tbody>\n",
       "    <tr>\n",
       "      <th>0</th>\n",
       "      <td>Tue 28</td>\n",
       "      <td>38</td>\n",
       "    </tr>\n",
       "    <tr>\n",
       "      <th>1</th>\n",
       "      <td>Wed 01</td>\n",
       "      <td>47</td>\n",
       "    </tr>\n",
       "    <tr>\n",
       "      <th>2</th>\n",
       "      <td>Thu 02</td>\n",
       "      <td>54</td>\n",
       "    </tr>\n",
       "    <tr>\n",
       "      <th>3</th>\n",
       "      <td>Fri 03</td>\n",
       "      <td>39</td>\n",
       "    </tr>\n",
       "    <tr>\n",
       "      <th>4</th>\n",
       "      <td>Sat 04</td>\n",
       "      <td>38</td>\n",
       "    </tr>\n",
       "    <tr>\n",
       "      <th>5</th>\n",
       "      <td>Sun 05</td>\n",
       "      <td>39</td>\n",
       "    </tr>\n",
       "    <tr>\n",
       "      <th>6</th>\n",
       "      <td>Mon 06</td>\n",
       "      <td>42</td>\n",
       "    </tr>\n",
       "    <tr>\n",
       "      <th>7</th>\n",
       "      <td>Tue 07</td>\n",
       "      <td>45</td>\n",
       "    </tr>\n",
       "    <tr>\n",
       "      <th>8</th>\n",
       "      <td>Wed 08</td>\n",
       "      <td>40</td>\n",
       "    </tr>\n",
       "    <tr>\n",
       "      <th>9</th>\n",
       "      <td>Thu 09</td>\n",
       "      <td>41</td>\n",
       "    </tr>\n",
       "    <tr>\n",
       "      <th>10</th>\n",
       "      <td>Fri 10</td>\n",
       "      <td>40</td>\n",
       "    </tr>\n",
       "    <tr>\n",
       "      <th>11</th>\n",
       "      <td>Sat 11</td>\n",
       "      <td>43</td>\n",
       "    </tr>\n",
       "    <tr>\n",
       "      <th>12</th>\n",
       "      <td>Sun 12</td>\n",
       "      <td>42</td>\n",
       "    </tr>\n",
       "    <tr>\n",
       "      <th>13</th>\n",
       "      <td>Mon 13</td>\n",
       "      <td>45</td>\n",
       "    </tr>\n",
       "  </tbody>\n",
       "</table>\n",
       "</div>"
      ],
      "text/plain": [
       "      days  hi_temp\n",
       "0   Tue 28       38\n",
       "1   Wed 01       47\n",
       "2   Thu 02       54\n",
       "3   Fri 03       39\n",
       "4   Sat 04       38\n",
       "5   Sun 05       39\n",
       "6   Mon 06       42\n",
       "7   Tue 07       45\n",
       "8   Wed 08       40\n",
       "9   Thu 09       41\n",
       "10  Fri 10       40\n",
       "11  Sat 11       43\n",
       "12  Sun 12       42\n",
       "13  Mon 13       45"
      ]
     },
     "execution_count": 10,
     "metadata": {},
     "output_type": "execute_result"
    }
   ],
   "source": [
    "df= pd.DataFrame(data = {\"days\":days, \"hi_temp\":temps})\n",
    "df"
   ]
  },
  {
   "cell_type": "markdown",
   "metadata": {
    "deletable": false,
    "editable": false
   },
   "source": [
    "Once we have a data frame, we can use the *plot.bar* method to create a bar plot from the data, where we specify the $x$ and $y$ values of the plot. "
   ]
  },
  {
   "cell_type": "code",
   "execution_count": 11,
   "metadata": {
    "deletable": false,
    "editable": false,
    "scrolled": true
   },
   "outputs": [
    {
     "data": {
      "image/png": "[encoded data removed]",
      "text/plain": [
       "<Figure size 640x480 with 1 Axes>"
      ]
     },
     "metadata": {},
     "output_type": "display_data"
    }
   ],
   "source": [
    "plt = df.plot.bar(x = \"days\", y = \"hi_temp\", \n",
    "            title = \"Willimantic High Temps, 10 day forecast\",\n",
    "            legend = False)\n",
    "\n",
    "plt.set_xlabel(\"\\nDay of the Week (Date)\")\n",
    "plt.set_ylabel(\"Temperature (Degrees Fahrenheit)\")\n",
    "None"
   ]
  },
  {
   "cell_type": "code",
   "execution_count": null,
   "metadata": {},
   "outputs": [],
   "source": []
  }
 ],
 "metadata": {
  "kernelspec": {
   "display_name": "Python 3 (ipykernel)",
   "language": "python",
   "name": "python3"
  },
  "language_info": {
   "codemirror_mode": {
    "name": "ipython",
    "version": 3
   },
   "file_extension": ".py",
   "mimetype": "text/x-python",
   "name": "python",
   "nbconvert_exporter": "python",
   "pygments_lexer": "ipython3",
   "version": "3.9.13"
  }
 },
 "nbformat": 4,
 "nbformat_minor": 2
}
