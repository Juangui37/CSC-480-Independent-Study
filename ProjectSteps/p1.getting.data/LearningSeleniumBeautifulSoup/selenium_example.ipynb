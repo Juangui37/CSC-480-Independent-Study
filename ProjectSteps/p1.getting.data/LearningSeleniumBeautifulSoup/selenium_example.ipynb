{
 "cells": [
  {
   "cell_type": "markdown",
   "metadata": {
    "deletable": false,
    "editable": false
   },
   "source": [
    "# Selenium\n",
    "\n",
    "Selenium (https://www.seleniumhq.org/) automates browsers. Primarily, it is for automating web applications for testing purposes, but it not limited to just that. Boring web-based tasks can (and should!) be automated.\n",
    "\n",
    "In the code cell below, the statement\n",
    "```python\n",
    "from selenium import webdriver\n",
    "```\n",
    "is used to import the webdriver, which is always necessary for automating browsing."
   ]
  },
  {
   "cell_type": "code",
   "execution_count": 3,
   "metadata": {
    "deletable": false
   },
   "outputs": [],
   "source": [
    "from selenium import webdriver\n",
    "from selenium.webdriver.common.by import By\n",
    "from selenium.webdriver.common.keys import Keys"
   ]
  },
  {
   "cell_type": "markdown",
   "metadata": {
    "deletable": false,
    "editable": false
   },
   "source": [
    "### Using selenium to open a website\n",
    "\n",
    "We first need to create an object for the web driver, which we use to open the page. In our class we use the Firefox webdriver, but others are available (see section 1.5 here: https://selenium-python.readthedocs.io/installation.html)\n",
    "\n",
    "Note that on a school computer, you will need to specify the executable path to the webdriver, but this (likely) will not be the case on your personal computer.\n",
    "\n",
    "```python\n",
    "driver = webdriver.Firefox(executable_path='C:\\geckodriver\\geckodriver.exe')\n",
    "```\n",
    "\n",
    "Create the web driver object that controls the browser; this will open a Firefox brower with an empty url."
   ]
  },
  {
   "cell_type": "code",
   "execution_count": 5,
   "metadata": {
    "deletable": false
   },
   "outputs": [],
   "source": [
    "driver = webdriver.Safari()"
   ]
  },
  {
   "cell_type": "markdown",
   "metadata": {
    "deletable": false,
    "editable": false
   },
   "source": [
    "To browse to a page, simply use the *driver.get* method and specify the URL."
   ]
  },
  {
   "cell_type": "code",
   "execution_count": 6,
   "metadata": {
    "deletable": false,
    "editable": false
   },
   "outputs": [],
   "source": [
    "driver.get('http://www.easternct.edu')"
   ]
  },
  {
   "cell_type": "markdown",
   "metadata": {
    "deletable": false,
    "editable": false
   },
   "source": [
    "### Locating elements\n",
    "\n",
    "In order to find the *first* element matching a particular *id*, *tag name*, etc, use the *find_element* method:\n",
    "\n",
    "```python\n",
    "find_element(By.TAG_NAME, value)\n",
    "```\n",
    "\n",
    "In order to find multiple elements that match, use the *find_elements* method, which returns a list:\n",
    "\n",
    "```python\n",
    "find_elements(By.TAG_NAME, value)\n",
    "```\n",
    "\n",
    "These methods can be called using the *driver* or any selenium web element.\n",
    "\n",
    "The first argument can be any one of the following, and the second argument is the corresponding *value* to search for:\n",
    "\n",
    "- By.ID \n",
    "- By.XPATH\n",
    "- By.LINK_TEXT\n",
    "- By.PARTIAL_LINK_TEXT\n",
    "- By.NAME\n",
    "- By.TAG_NAME\n",
    "- By.CLASS_NAME\n",
    "- By.CSS_SELECTOR\n",
    "\n",
    "Note: For CLASS_NAME, any elements with that class will be returned (even if the element contains multiple classes). \n",
    "\n",
    "Note: if no elements exist, a *NoSuchElementException* will be raised."
   ]
  },
  {
   "cell_type": "markdown",
   "metadata": {
    "deletable": false,
    "editable": false
   },
   "source": [
    "The code below finds the first *ul* element on the page, which holds the list of menu items in the header of the page. The element is stored in a *webelement* object."
   ]
  },
  {
   "cell_type": "code",
   "execution_count": 7,
   "metadata": {
    "deletable": false,
    "editable": false
   },
   "outputs": [
    {
     "data": {
      "text/plain": [
       "<selenium.webdriver.remote.webelement.WebElement (session=\"E59A7E23-1F14-43BE-824C-9920E2B4E742\", element=\"node-3B869258-B10A-4897-ACD3-93F797455C51\")>"
      ]
     },
     "execution_count": 7,
     "metadata": {},
     "output_type": "execute_result"
    }
   ],
   "source": [
    "ul = driver.find_element(By.TAG_NAME, 'ul')\n",
    "ul"
   ]
  },
  {
   "cell_type": "markdown",
   "metadata": {
    "deletable": false,
    "editable": false
   },
   "source": [
    "### Extracting text from elements\n",
    "To extract text from an element, simply access its *text* field."
   ]
  },
  {
   "cell_type": "code",
   "execution_count": 8,
   "metadata": {},
   "outputs": [
    {
     "name": "stdout",
     "output_type": "stream",
     "text": [
      "Apply\n",
      "Visit\n",
      "Request Info\n",
      "Give\n"
     ]
    }
   ],
   "source": [
    "list_items = ul.find_elements(By.TAG_NAME, 'li')\n",
    "for li in list_items :\n",
    "    print(li.text)"
   ]
  },
  {
   "cell_type": "markdown",
   "metadata": {
    "deletable": false,
    "editable": false
   },
   "source": [
    "### Clicking on an element\n",
    "\n",
    "You can click on an element using the *click* method. Note that you will get an error if the element cannot be clicked. For example, this happens if you run the cell below twice."
   ]
  },
  {
   "cell_type": "code",
   "execution_count": 9,
   "metadata": {
    "deletable": false,
    "editable": false
   },
   "outputs": [],
   "source": [
    "searchButton = driver.find_element(By.ID, 'search-button')\n",
    "searchButton.click()"
   ]
  },
  {
   "cell_type": "markdown",
   "metadata": {
    "deletable": false,
    "editable": false
   },
   "source": [
    "### Adding text to an input\n",
    "\n",
    "The *send_keys* method can be used to add text to an input. Here we add \"How are you\" to the search input that is now visible because we clicked on the search icon."
   ]
  },
  {
   "cell_type": "code",
   "execution_count": 10,
   "metadata": {
    "deletable": false,
    "editable": false
   },
   "outputs": [],
   "source": [
    "elem = driver.find_element(By.ID, 'q')\n",
    "elem.send_keys(\"How are you?\")"
   ]
  },
  {
   "cell_type": "markdown",
   "metadata": {
    "deletable": false,
    "editable": false
   },
   "source": [
    "We can clear input using the *clear* method."
   ]
  },
  {
   "cell_type": "code",
   "execution_count": 11,
   "metadata": {
    "deletable": false,
    "editable": false
   },
   "outputs": [],
   "source": [
    "elem.clear()"
   ]
  },
  {
   "cell_type": "markdown",
   "metadata": {
    "deletable": false,
    "editable": false
   },
   "source": [
    "Let's search for \"Computer Science\", by entering the text and then pressing the *Enter* key.\n",
    "\n",
    "The statement\n",
    "```python\n",
    "from selenium.webdriver.common.keys import Keys\n",
    "```\n",
    "is needed so that we can simulate a user hitting the ENTER (RETURN) button."
   ]
  },
  {
   "cell_type": "code",
   "execution_count": 12,
   "metadata": {
    "deletable": false,
    "editable": false
   },
   "outputs": [],
   "source": [
    "from selenium.webdriver.common.keys import Keys\n",
    "elem.send_keys('Computer Science')\n",
    "elem.send_keys(Keys.RETURN)"
   ]
  },
  {
   "cell_type": "markdown",
   "metadata": {
    "deletable": false,
    "editable": false
   },
   "source": [
    "### Getting the value of an attribute\n",
    "\n",
    "The method *get_attribute* can be used to get the value of an attribute of an element. Here we get all links on the page, and display the text of the link as well as the URL (the *href* attribute)."
   ]
  },
  {
   "cell_type": "code",
   "execution_count": 13,
   "metadata": {
    "deletable": false,
    "editable": false
   },
   "outputs": [
    {
     "name": "stdout",
     "output_type": "stream",
     "text": [
      "\n",
      "    \t\tSkip to Main Site Navigation\n",
      "    \t: https://www.easternct.edu/search/index.html?cx=015963256972996848925%3A1fqh-ftnmxc&q=Computer+Science&ie=UTF-8&sa=#skipToTopNav\n",
      "\n",
      "    \t   Skip to Content\n",
      "    \t: https://www.easternct.edu/search/index.html?cx=015963256972996848925%3A1fqh-ftnmxc&q=Computer+Science&ie=UTF-8&sa=#skipToContent\n",
      "\n",
      "    \t    Skip to Footer\n",
      "    \t: https://www.easternct.edu/search/index.html?cx=015963256972996848925%3A1fqh-ftnmxc&q=Computer+Science&ie=UTF-8&sa=#skipToFooter\n",
      "Read More: https://www.easternct.edu/emergency-alerts/index.html\n",
      "Apply: https://www.easternct.edu/admissions/apply/apply-first-year.html\n",
      "Visit: https://www.easternct.edu/admissions/visit.html\n",
      "Request Info: https://www44.student-1.com/OnlineFormsECSU/form-direct.aspx?Form=INQUIRY\n",
      "Give: https://www.easternct.edu/give/give-to-eastern.html\n",
      "\n",
      "\t\t\t\t\t\n",
      "\t\t\t\t\t\n",
      "\t\t\t\t: https://www.easternct.edu/index.html\n",
      "Apply: https://www.easternct.edu/admissions/apply/apply-first-year.html\n",
      "Visit: https://www.easternct.edu/admissions/visit.html\n",
      "Request Info: https://www44.student-1.com/OnlineFormsECSU/form-direct.aspx?Form=INQUIRY\n",
      "Give: https://www.easternct.edu/give/give-to-eastern.html\n",
      "Prospective Students & Parents: https://www.easternct.edu/admissions/index.html\n",
      "Current Students: https://www.easternct.edu/portal/index.html\n",
      "Alumni & Friends: https://www.easternct.edu/alumni-and-friends/index.html\n",
      "Faculty & Staff: https://www.easternct.edu/portal/faculty-staff.html\n",
      "About Eastern: https://www.easternct.edu/about-eastern/index.html\n",
      "Academics Home: https://www.easternct.edu/academics/index.html\n",
      "Academic Calendar: https://www.easternct.edu/academics/academic-calendar/index.html\n",
      "Advising Center: https://www.easternct.edu/advising/index.html\n",
      "Course Schedule: https://ssb-prod.ec.easternct.edu/PROD/bwskfcls.p_termsel\n",
      "Departments: https://www.easternct.edu/academics/academic-departments.html\n",
      "Graduate Division: https://www.easternct.edu/graduate-division/index.html\n",
      "Library: https://www.easternct.edu/library/index.html\n",
      "Majors and Minors: https://www.easternct.edu/programs/index.html\n",
      "Support Offices: https://www.easternct.edu/academics/academic-support-offices.html\n",
      "Undergraduate: https://www.easternct.edu/admissions/index.html\n",
      "Graduate: https://www.easternct.edu/graduate-division/index.html\n",
      "Part-time: https://www.easternct.edu/admissions/apply/part-time-checklist.html\n",
      "Student Life Home: https://www.easternct.edu/student-life/index.html\n",
      "Campus Culture: https://www.easternct.edu/campus-culture/index.html\n",
      "Health and Wellness: https://www.easternct.edu/health-and-wellness/index.html\n",
      "Housing: https://www.easternct.edu/housing/index.html\n",
      "Student Clubs: https://www.easternct.edu/clubs/index.html\n",
      "Sports and Recreation: https://www.easternct.edu/sports-and-recreation/index.html\n",
      "Support Services: https://www.easternct.edu/support-services/index.html\n",
      "Costs and Aid: https://www.easternct.edu/financial-aid/index.html\n",
      "Athletics: http://www.gowarriorathletics.com/landing/index\n",
      "Hands-on Learning Home: https://www.easternct.edu/hands-on-learning/index.html\n",
      "Internships: https://www.easternct.edu/hands-on-learning/internships.html\n",
      "Undergraduate Research: https://www.easternct.edu/hands-on-learning/undergraduate-research.html\n",
      "Service: https://www.easternct.edu/hands-on-learning/service.html\n",
      "Global Studies: https://www.easternct.edu/global-studies/index.html\n",
      "A-Z Index: https://www.easternct.edu/sitemap/index.html\n",
      "Faculty/Staff Directory: https://www.easternct.edu/faculty-directory/index.html\n",
      "Important Numbers: https://www.easternct.edu/connect-with-us/important-numbers.html\n",
      "Maps/Directions: https://www.easternct.edu/maps/index.html\n",
      "Facts at a Glance: https://www.easternct.edu/about-eastern/facts-at-a-glance.html\n",
      "Success After Eastern: https://www.easternct.edu/success-after-eastern/index.html\n",
      "Administration: https://www.easternct.edu/administration/index.html\n",
      "Jobs at Eastern: https://www.easternct.edu/human-resources/job-opportunities.html\n",
      "News: https://www.easternct.edu/news/index.html\n",
      "Events: https://eastern.emscloudservice.com/calendar/MasterCalendar.aspx\n",
      "\n",
      "\t\t\t\t\t\t\t\tEastern's Facebook\n",
      "\t\t\t\t\t\t\t\t\n",
      "\t\t\t\t\t\t\t: https://www.facebook.com/EasternCTStateUniversity\n",
      "\n",
      "\t\t\t\t\t\t\t\tEastern's Twitter\n",
      "\t\t\t\t\t\t\t\t\n",
      "\t\t\t\t\t\t\t: https://twitter.com/EasternCTStateU\n",
      "\n",
      "\t\t\t\t\t\t\t\tEastern's Instagram\n",
      "\t\t\t\t\t\t\t\t\n",
      "\t\t\t\t\t\t\t: https://www.instagram.com/easternctstateuniv/\n",
      "\n",
      "\t\t\t\t\t\t\t    Eastern's LinkedIn\n",
      "\t\t\t\t\t\t\t\t\n",
      "\t\t\t\t\t\t\t: https://www.linkedin.com/school/eastern-connecticut-state-university/\n",
      "\n",
      "\t\t\t\t\t\t\t\tEastern's YouTube\n",
      "\t\t\t\t\t\t\t\t\n",
      "\t\t\t\t\t\t\t: https://www.youtube.com/EasternConnecticutStateUniversityVideo\n",
      "×: javascript:void(0)\n",
      "The Computer Science Program: https://www.easternct.edu/computer-science/\n",
      "Computer Science - Eastern: https://www.easternct.edu/computer-science/index.html\n",
      "Computer Science - Eastern: https://www.easternct.edu/computer-science/index.html\n",
      "Eastern: None\n",
      "clipped from Google - 2/2023: http://code.google.com/apis/ajaxsearch/faq.html\n",
      "Computer Science Major - Eastern: https://www.easternct.edu/programs/computer-science.html\n",
      "Computer Science Major - Eastern: https://www.easternct.edu/programs/computer-science.html\n",
      "Eastern: None\n",
      "clipped from Google - 2/2023: http://code.google.com/apis/ajaxsearch/faq.html\n",
      "Computer Science Minor - Eastern: https://www.easternct.edu/computer-science/programs-of-study/minors/computer-science-minor.html\n",
      "Computer Science Minor - Eastern: https://www.easternct.edu/computer-science/programs-of-study/minors/computer-science-minor.html\n",
      "Eastern: None\n",
      "clipped from Google - 2/2023: http://code.google.com/apis/ajaxsearch/faq.html\n",
      "Computer Science Major: BS Degree Requirements - Eastern: https://www.easternct.edu/computer-science/programs-of-study/computer-science-major-course-requirements.html\n",
      "Computer Science Major: BS Degree Requirements - Eastern: https://www.easternct.edu/computer-science/programs-of-study/computer-science-major-course-requirements.html\n",
      "Eastern: None\n",
      "clipped from Google - 2/2023: http://code.google.com/apis/ajaxsearch/faq.html\n",
      "Computer Science Major: Course Sequence - Eastern: https://www.easternct.edu/computer-science/programs-of-study/computer-science-sequence.html\n",
      "Computer Science Major: Course Sequence - Eastern: https://www.easternct.edu/computer-science/programs-of-study/computer-science-sequence.html\n",
      "Eastern: None\n",
      "clipped from Google - 2/2023: http://code.google.com/apis/ajaxsearch/faq.html\n",
      "Upsilon Pi Epsilon - Eastern: https://www.easternct.edu/computer-science/resources/upsilon-pi-epsilon.html\n",
      "Upsilon Pi Epsilon - Eastern: https://www.easternct.edu/computer-science/resources/upsilon-pi-epsilon.html\n",
      "Eastern: None\n",
      "clipped from Google - 2/2023: http://code.google.com/apis/ajaxsearch/faq.html\n",
      "Computer Science Major Learning Outcomes - Eastern: https://www.easternct.edu/computer-science/learning-outcomes/computer-science-major-learning-outcomes.html\n",
      "Computer Science Major Learning Outcomes - Eastern: https://www.easternct.edu/computer-science/learning-outcomes/computer-science-major-learning-outcomes.html\n",
      "Eastern: None\n",
      "clipped from Google - 2/2023: http://code.google.com/apis/ajaxsearch/faq.html\n",
      "Program Objectives and Other Details - Eastern: https://www.easternct.edu/computer-science/resources/programobjectives.html\n",
      "Program Objectives and Other Details - Eastern: https://www.easternct.edu/computer-science/resources/programobjectives.html\n",
      "Eastern: None\n",
      "clipped from Google - 2/2023: http://code.google.com/apis/ajaxsearch/faq.html\n",
      "Computer Science Major: (before Fall 2017) BS Degree Requirements: https://www.easternct.edu/computer-science/programs-of-study/computer-science-major-pre-2017-course-requirements.html\n",
      "Computer Science Major: (before Fall 2017) BS Degree Requirements: https://www.easternct.edu/computer-science/programs-of-study/computer-science-major-pre-2017-course-requirements.html\n",
      "Eastern: None\n",
      "clipped from Google - 2/2023: http://code.google.com/apis/ajaxsearch/faq.html\n",
      "Computer Engineering Science Minor - Eastern: https://www.easternct.edu/computer-science/programs-of-study/minors/computer-engineering-science-minor.html\n",
      "Computer Engineering Science Minor - Eastern: https://www.easternct.edu/computer-science/programs-of-study/minors/computer-engineering-science-minor.html\n",
      "Eastern: None\n",
      "clipped from Google - 2/2023: http://code.google.com/apis/ajaxsearch/faq.html\n"
     ]
    },
    {
     "name": "stdout",
     "output_type": "stream",
     "text": [
      "searchSearch for Computer Science on Google: https://www.google.com/search?client=ms-google-coop&q=Computer+Science&cx=015963256972996848925:1fqh-ftnmxc\n",
      "\n",
      "\t\t\t\t\t\tFacebook\n",
      "\t\t\t\t\t\t\n",
      "\t\t\t\t\t: https://www.facebook.com/EasternCTStateUniversity\n",
      "\n",
      "\t\t\t\t\t\tTwitter\n",
      "\t\t\t\t\t\t\n",
      "\t\t\t\t\t: https://twitter.com/EasternCTStateU\n",
      "\n",
      "\t\t\t\t\t\tInstagram\n",
      "\t\t\t\t\t\t\n",
      "\t\t\t\t\t: https://www.instagram.com/easternctstateuniv/\n",
      "\n",
      "\t\t\t\t\t\t\tLinkedIn\n",
      "\t\t\t\t\t\t\n",
      "\t\t\t\t\t: https://www.linkedin.com/school/eastern-connecticut-state-university/\n",
      "\n",
      "\t\t\t\t\t\tYouTube\n",
      "\t\t\t\t\t\t\n",
      "\t\t\t\t\t: https://www.youtube.com/EasternConnecticutStateUniversityVideo\n",
      "Contact Us: https://www.easternct.edu/connect-with-us/contact-us.html\n",
      "Maps: https://www.easternct.edu/maps/index.html\n",
      "ADA Issues: https://www.easternct.edu/ada-issues.html\n",
      "Emergency: https://www.easternct.edu/emergency-alerts/index.html\n",
      "Jobs at Eastern: https://www.easternct.edu/human-resources/job-opportunities.html\n",
      "Disclaimer: https://www.easternct.edu/university-disclaimer.html\n",
      "Cookie Policy: https://www.easternct.edu/cookie-policy.html\n",
      "Privacy Notices: https://www.easternct.edu/privacy-notices.html\n",
      "Freedom of Information: https://www.ct.edu/legal/foi\n",
      "Non-discrimination Notice: https://www.easternct.edu/nondiscrimination.html\n",
      " : None\n",
      " : None\n",
      "  : None\n",
      "  : None\n",
      "View Privacy Notices: https://www.easternct.edu/privacy-notices.html\n"
     ]
    }
   ],
   "source": [
    "links = driver.find_elements(By.TAG_NAME, 'a')\n",
    "for l in links :\n",
    "        text = l.text\n",
    "        if l.text != '':\n",
    "            print(text, l.get_attribute('href'), sep = ': ')"
   ]
  },
  {
   "cell_type": "markdown",
   "metadata": {
    "deletable": false,
    "editable": false
   },
   "source": [
    "### Searching by link text\n",
    "\n",
    "- use the *By.LINK_TEXT* option to search for elements whose link text is an exact match\n",
    "- use the *By.PARTIAL_TEXT* to search for elements whose link text *contains* the text\n",
    "\n",
    "Note: *text* here refers to the text value of the element, which can contain the *text* from more than one tag, as is the case for the last link in the second example."
   ]
  },
  {
   "cell_type": "code",
   "execution_count": 14,
   "metadata": {},
   "outputs": [
    {
     "data": {
      "text/plain": [
       "<selenium.webdriver.remote.webelement.WebElement (session=\"E59A7E23-1F14-43BE-824C-9920E2B4E742\", element=\"node-FF37FE87-F618-4BC8-8ED8-223310AF7E75\")>"
      ]
     },
     "execution_count": 14,
     "metadata": {},
     "output_type": "execute_result"
    }
   ],
   "source": [
    "driver.find_element(By.LINK_TEXT, 'CONTACT US')"
   ]
  },
  {
   "cell_type": "code",
   "execution_count": 15,
   "metadata": {},
   "outputs": [
    {
     "name": "stdout",
     "output_type": "stream",
     "text": [
      "The Computer Science Program\n",
      "Computer Science - Eastern\n",
      "Computer Science Major - Eastern\n",
      "Computer Science Minor - Eastern\n",
      "Computer Science Major: BS Degree Requirements - Eastern\n",
      "Computer Science Major: Course Sequence - Eastern\n",
      "Computer Science Major Learning Outcomes - Eastern\n",
      "Computer Science Major: (before Fall 2017) BS Degree Requirements\n",
      "Computer Engineering Science Minor - Eastern\n"
     ]
    }
   ],
   "source": [
    "cs_links = driver.find_elements(By.PARTIAL_LINK_TEXT, 'Computer')\n",
    "for cs in cs_links :\n",
    "    print(cs.text)"
   ]
  },
  {
   "cell_type": "markdown",
   "metadata": {
    "deletable": false,
    "editable": false
   },
   "source": [
    "### Close the driver\n",
    "\n",
    "Close the driver when you are done."
   ]
  },
  {
   "cell_type": "code",
   "execution_count": 16,
   "metadata": {
    "deletable": false,
    "editable": false
   },
   "outputs": [],
   "source": [
    "driver.close()"
   ]
  },
  {
   "cell_type": "markdown",
   "metadata": {
    "deletable": false,
    "editable": false
   },
   "source": [
    "### Headless browsers and screenshots\n",
    "\n",
    "It is possible to make a browser *headless* (meaning the browser no longer has a GUI and you therefore will not see it), by setting *options* as in the code below. You can also save a screenshot of, which is commonly done with testing. "
   ]
  },
  {
   "cell_type": "code",
   "execution_count": 20,
   "metadata": {
    "deletable": false
   },
   "outputs": [
    {
     "ename": "ModuleNotFoundError",
     "evalue": "No module named 'selenium.webdriver.safari.options'",
     "output_type": "error",
     "traceback": [
      "\u001b[0;31m---------------------------------------------------------------------------\u001b[0m",
      "\u001b[0;31mModuleNotFoundError\u001b[0m                       Traceback (most recent call last)",
      "\u001b[0;32m/var/folders/fg/20qjr3zj73q_m0k3qy44x0n00000gn/T/ipykernel_3831/3965681523.py\u001b[0m in \u001b[0;36m<module>\u001b[0;34m\u001b[0m\n\u001b[1;32m      1\u001b[0m \u001b[0;31m# configure headless browser\u001b[0m\u001b[0;34m\u001b[0m\u001b[0;34m\u001b[0m\u001b[0m\n\u001b[0;32m----> 2\u001b[0;31m \u001b[0;32mfrom\u001b[0m \u001b[0mselenium\u001b[0m\u001b[0;34m.\u001b[0m\u001b[0mwebdriver\u001b[0m\u001b[0;34m.\u001b[0m\u001b[0msafari\u001b[0m\u001b[0;34m.\u001b[0m\u001b[0moptions\u001b[0m \u001b[0;32mimport\u001b[0m \u001b[0mOptions\u001b[0m\u001b[0;34m\u001b[0m\u001b[0;34m\u001b[0m\u001b[0m\n\u001b[0m\u001b[1;32m      3\u001b[0m \u001b[0moptions\u001b[0m \u001b[0;34m=\u001b[0m \u001b[0mOptions\u001b[0m\u001b[0;34m(\u001b[0m\u001b[0;34m)\u001b[0m\u001b[0;34m\u001b[0m\u001b[0;34m\u001b[0m\u001b[0m\n\u001b[1;32m      4\u001b[0m \u001b[0moptions\u001b[0m\u001b[0;34m.\u001b[0m\u001b[0mheadless\u001b[0m \u001b[0;34m=\u001b[0m \u001b[0;32mTrue\u001b[0m\u001b[0;34m\u001b[0m\u001b[0;34m\u001b[0m\u001b[0m\n\u001b[1;32m      5\u001b[0m \u001b[0mprint\u001b[0m\u001b[0;34m(\u001b[0m\u001b[0;34m'configuring headless browser ...'\u001b[0m\u001b[0;34m)\u001b[0m\u001b[0;34m\u001b[0m\u001b[0;34m\u001b[0m\u001b[0m\n",
      "\u001b[0;31mModuleNotFoundError\u001b[0m: No module named 'selenium.webdriver.safari.options'"
     ]
    }
   ],
   "source": [
    "# configure headless browser\n",
    "from selenium.webdriver.safari.options import Options\n",
    "options = Options()\n",
    "options.headless = True\n",
    "print('configuring headless browser ...')\n",
    "driver = webdriver.safari(options=options)\n",
    "\n",
    "# go to Google News and take a screenshot\n",
    "print('opening http://news.google.com ...')\n",
    "driver.get('http://news.google.com')\n",
    "\n",
    "print('take a screenshot ...')\n",
    "driver.save_screenshot('google_news.png')\n",
    "\n",
    "# close the browser\n",
    "print('close the browser...')\n",
    "driver.close()\n",
    "\n",
    "print('done!')"
   ]
  },
  {
   "cell_type": "code",
   "execution_count": 22,
   "metadata": {},
   "outputs": [
    {
     "ename": "ModuleNotFoundError",
     "evalue": "No module named 'selenium.webdriver.safari.options'",
     "output_type": "error",
     "traceback": [
      "\u001b[0;31m---------------------------------------------------------------------------\u001b[0m",
      "\u001b[0;31mModuleNotFoundError\u001b[0m                       Traceback (most recent call last)",
      "\u001b[0;32m/var/folders/fg/20qjr3zj73q_m0k3qy44x0n00000gn/T/ipykernel_3831/3270408356.py\u001b[0m in \u001b[0;36m<module>\u001b[0;34m\u001b[0m\n\u001b[0;32m----> 1\u001b[0;31m \u001b[0;32mfrom\u001b[0m \u001b[0mselenium\u001b[0m\u001b[0;34m.\u001b[0m\u001b[0mwebdriver\u001b[0m\u001b[0;34m.\u001b[0m\u001b[0msafari\u001b[0m\u001b[0;34m.\u001b[0m\u001b[0moptions\u001b[0m \u001b[0;32mimport\u001b[0m \u001b[0mOptions\u001b[0m\u001b[0;34m\u001b[0m\u001b[0;34m\u001b[0m\u001b[0m\n\u001b[0m",
      "\u001b[0;31mModuleNotFoundError\u001b[0m: No module named 'selenium.webdriver.safari.options'"
     ]
    }
   ],
   "source": [
    "from selenium.webdriver.safari.options import Options"
   ]
  },
  {
   "cell_type": "markdown",
   "metadata": {
    "deletable": false,
    "editable": false
   },
   "source": [
    "### Searching by xpath\n",
    "\n",
    "Xpath uses path expressions to select nodes in an XML (or HTML) document. For more information, see: https://www.w3schools.com/xml/xpath_syntax.asp. In some cases, specifying the *xpath* may be more intuitive and/or more powerful."
   ]
  },
  {
   "cell_type": "code",
   "execution_count": 23,
   "metadata": {
    "deletable": false
   },
   "outputs": [],
   "source": [
    "driver = webdriver.Safari()\n",
    "driver.get('http://www.easternct.edu')"
   ]
  },
  {
   "cell_type": "markdown",
   "metadata": {
    "deletable": false,
    "editable": false
   },
   "source": [
    "Here we use a CSS selector to get the 3rd list item inside of the *div* with class 'main-menu-bg'."
   ]
  },
  {
   "cell_type": "code",
   "execution_count": 24,
   "metadata": {
    "deletable": false,
    "editable": false
   },
   "outputs": [
    {
     "data": {
      "text/plain": [
       "'Request Info'"
      ]
     },
     "execution_count": 24,
     "metadata": {},
     "output_type": "execute_result"
    }
   ],
   "source": [
    "info_link = driver.find_element(By.CSS_SELECTOR, 'div.main-menu-bg li:nth-child(3)')\n",
    "info_link.text"
   ]
  },
  {
   "cell_type": "markdown",
   "metadata": {
    "deletable": false,
    "editable": false
   },
   "source": [
    "We can do the same thing using xpath. Note that we use the following:\n",
    "\n",
    "- two slashes (//) says to search starting from the current node (if you use a single slash, then the path must match exactly)\n",
    "- you can look for an attribute using [@attribute = value] (an exact match is required)\n",
    "- element[n] will match the *nth* element\n",
    "\n",
    "Note: @class= identifies classes that match exactly; if the element could contain multiple classes, you shouls use the *contains* xpath function (see link below)."
   ]
  },
  {
   "cell_type": "code",
   "execution_count": 25,
   "metadata": {
    "deletable": false,
    "editable": false
   },
   "outputs": [
    {
     "data": {
      "text/plain": [
       "'Request Info'"
      ]
     },
     "execution_count": 25,
     "metadata": {},
     "output_type": "execute_result"
    }
   ],
   "source": [
    "info_link = driver.find_element(By.XPATH, '//div[@class=\"main-menu-bg\"]//li[3]')\n",
    "info_link.text"
   ]
  },
  {
   "cell_type": "markdown",
   "metadata": {
    "deletable": false,
    "editable": false
   },
   "source": [
    "In general, anything you can match using a CSS SELECTOR can also be matched by specifying an XPATH. But XPATH also allows for \"other things\", such as text matches, that could not be specified otherwise. See https://devhints.io/xpath"
   ]
  },
  {
   "cell_type": "code",
   "execution_count": 26,
   "metadata": {
    "deletable": false,
    "editable": false
   },
   "outputs": [
    {
     "data": {
      "text/plain": [
       "'\\n        \\t\\t\\t\\t\\t\\t\\t        \\t\\t\\t\\t\\t\\t\\t    Bahamas\\n        \\t\\t\\t\\t\\t\\t\\t        \\t\\t\\t\\t\\t\\t\\t                            \\t\\t    Undergraduate Research\\n                            \\t\\t        \\t\\t\\t\\t\\t\\t\\t\\n        \\t\\t\\t\\t\\t\\t\\t            \\t\\t\\t\\t\\t\\t\\t\\t    Eastern undergraduates conduct faculty-mentored research in every major—everything from genetics\\nto theater set design.\\n        \\t\\t\\t\\t\\t\\t\\t\\t        \\t\\t\\t\\t\\t\\t\\t\\t        \\t\\t\\t\\t\\t\\t\\t\\t    Learn More\\n        \\t\\t\\t\\t\\t\\t\\t\\t        \\t\\t\\t\\t\\t\\t\\t\\n        \\t\\t\\t\\t\\t\\t'"
      ]
     },
     "execution_count": 26,
     "metadata": {},
     "output_type": "execute_result"
    }
   ],
   "source": [
    "ugr = driver.find_element(By.XPATH, '//h3[(text() = \"Undergraduate Research\")]/..')\n",
    "ugr.text"
   ]
  },
  {
   "cell_type": "markdown",
   "metadata": {
    "deletable": false,
    "editable": false
   },
   "source": [
    "But in order to get the summary, we need to click on it, since the summary is currently not displayed."
   ]
  },
  {
   "cell_type": "code",
   "execution_count": 27,
   "metadata": {
    "deletable": false,
    "editable": false
   },
   "outputs": [
    {
     "ename": "ElementNotInteractableException",
     "evalue": "Message: \n",
     "output_type": "error",
     "traceback": [
      "\u001b[0;31m---------------------------------------------------------------------------\u001b[0m",
      "\u001b[0;31mElementNotInteractableException\u001b[0m           Traceback (most recent call last)",
      "\u001b[0;32m/var/folders/fg/20qjr3zj73q_m0k3qy44x0n00000gn/T/ipykernel_3831/500404325.py\u001b[0m in \u001b[0;36m<module>\u001b[0;34m\u001b[0m\n\u001b[0;32m----> 1\u001b[0;31m \u001b[0mugr\u001b[0m\u001b[0;34m.\u001b[0m\u001b[0mclick\u001b[0m\u001b[0;34m(\u001b[0m\u001b[0;34m)\u001b[0m\u001b[0;34m\u001b[0m\u001b[0;34m\u001b[0m\u001b[0m\n\u001b[0m",
      "\u001b[0;32m/opt/anaconda3/lib/python3.9/site-packages/selenium/webdriver/remote/webelement.py\u001b[0m in \u001b[0;36mclick\u001b[0;34m(self)\u001b[0m\n\u001b[1;32m     78\u001b[0m     \u001b[0;32mdef\u001b[0m \u001b[0mclick\u001b[0m\u001b[0;34m(\u001b[0m\u001b[0mself\u001b[0m\u001b[0;34m)\u001b[0m\u001b[0;34m:\u001b[0m\u001b[0;34m\u001b[0m\u001b[0;34m\u001b[0m\u001b[0m\n\u001b[1;32m     79\u001b[0m         \u001b[0;34m\"\"\"Clicks the element.\"\"\"\u001b[0m\u001b[0;34m\u001b[0m\u001b[0;34m\u001b[0m\u001b[0m\n\u001b[0;32m---> 80\u001b[0;31m         \u001b[0mself\u001b[0m\u001b[0;34m.\u001b[0m\u001b[0m_execute\u001b[0m\u001b[0;34m(\u001b[0m\u001b[0mCommand\u001b[0m\u001b[0;34m.\u001b[0m\u001b[0mCLICK_ELEMENT\u001b[0m\u001b[0;34m)\u001b[0m\u001b[0;34m\u001b[0m\u001b[0;34m\u001b[0m\u001b[0m\n\u001b[0m\u001b[1;32m     81\u001b[0m \u001b[0;34m\u001b[0m\u001b[0m\n\u001b[1;32m     82\u001b[0m     \u001b[0;32mdef\u001b[0m \u001b[0msubmit\u001b[0m\u001b[0;34m(\u001b[0m\u001b[0mself\u001b[0m\u001b[0;34m)\u001b[0m\u001b[0;34m:\u001b[0m\u001b[0;34m\u001b[0m\u001b[0;34m\u001b[0m\u001b[0m\n",
      "\u001b[0;32m/opt/anaconda3/lib/python3.9/site-packages/selenium/webdriver/remote/webelement.py\u001b[0m in \u001b[0;36m_execute\u001b[0;34m(self, command, params)\u001b[0m\n\u001b[1;32m    631\u001b[0m             \u001b[0mparams\u001b[0m \u001b[0;34m=\u001b[0m \u001b[0;34m{\u001b[0m\u001b[0;34m}\u001b[0m\u001b[0;34m\u001b[0m\u001b[0;34m\u001b[0m\u001b[0m\n\u001b[1;32m    632\u001b[0m         \u001b[0mparams\u001b[0m\u001b[0;34m[\u001b[0m\u001b[0;34m'id'\u001b[0m\u001b[0;34m]\u001b[0m \u001b[0;34m=\u001b[0m \u001b[0mself\u001b[0m\u001b[0;34m.\u001b[0m\u001b[0m_id\u001b[0m\u001b[0;34m\u001b[0m\u001b[0;34m\u001b[0m\u001b[0m\n\u001b[0;32m--> 633\u001b[0;31m         \u001b[0;32mreturn\u001b[0m \u001b[0mself\u001b[0m\u001b[0;34m.\u001b[0m\u001b[0m_parent\u001b[0m\u001b[0;34m.\u001b[0m\u001b[0mexecute\u001b[0m\u001b[0;34m(\u001b[0m\u001b[0mcommand\u001b[0m\u001b[0;34m,\u001b[0m \u001b[0mparams\u001b[0m\u001b[0;34m)\u001b[0m\u001b[0;34m\u001b[0m\u001b[0;34m\u001b[0m\u001b[0m\n\u001b[0m\u001b[1;32m    634\u001b[0m \u001b[0;34m\u001b[0m\u001b[0m\n\u001b[1;32m    635\u001b[0m     \u001b[0;32mdef\u001b[0m \u001b[0mfind_element\u001b[0m\u001b[0;34m(\u001b[0m\u001b[0mself\u001b[0m\u001b[0;34m,\u001b[0m \u001b[0mby\u001b[0m\u001b[0;34m=\u001b[0m\u001b[0mBy\u001b[0m\u001b[0;34m.\u001b[0m\u001b[0mID\u001b[0m\u001b[0;34m,\u001b[0m \u001b[0mvalue\u001b[0m\u001b[0;34m=\u001b[0m\u001b[0;32mNone\u001b[0m\u001b[0;34m)\u001b[0m\u001b[0;34m:\u001b[0m\u001b[0;34m\u001b[0m\u001b[0;34m\u001b[0m\u001b[0m\n",
      "\u001b[0;32m/opt/anaconda3/lib/python3.9/site-packages/selenium/webdriver/remote/webdriver.py\u001b[0m in \u001b[0;36mexecute\u001b[0;34m(self, driver_command, params)\u001b[0m\n\u001b[1;32m    319\u001b[0m         \u001b[0mresponse\u001b[0m \u001b[0;34m=\u001b[0m \u001b[0mself\u001b[0m\u001b[0;34m.\u001b[0m\u001b[0mcommand_executor\u001b[0m\u001b[0;34m.\u001b[0m\u001b[0mexecute\u001b[0m\u001b[0;34m(\u001b[0m\u001b[0mdriver_command\u001b[0m\u001b[0;34m,\u001b[0m \u001b[0mparams\u001b[0m\u001b[0;34m)\u001b[0m\u001b[0;34m\u001b[0m\u001b[0;34m\u001b[0m\u001b[0m\n\u001b[1;32m    320\u001b[0m         \u001b[0;32mif\u001b[0m \u001b[0mresponse\u001b[0m\u001b[0;34m:\u001b[0m\u001b[0;34m\u001b[0m\u001b[0;34m\u001b[0m\u001b[0m\n\u001b[0;32m--> 321\u001b[0;31m             \u001b[0mself\u001b[0m\u001b[0;34m.\u001b[0m\u001b[0merror_handler\u001b[0m\u001b[0;34m.\u001b[0m\u001b[0mcheck_response\u001b[0m\u001b[0;34m(\u001b[0m\u001b[0mresponse\u001b[0m\u001b[0;34m)\u001b[0m\u001b[0;34m\u001b[0m\u001b[0;34m\u001b[0m\u001b[0m\n\u001b[0m\u001b[1;32m    322\u001b[0m             response['value'] = self._unwrap_value(\n\u001b[1;32m    323\u001b[0m                 response.get('value', None))\n",
      "\u001b[0;32m/opt/anaconda3/lib/python3.9/site-packages/selenium/webdriver/remote/errorhandler.py\u001b[0m in \u001b[0;36mcheck_response\u001b[0;34m(self, response)\u001b[0m\n\u001b[1;32m    240\u001b[0m                 \u001b[0malert_text\u001b[0m \u001b[0;34m=\u001b[0m \u001b[0mvalue\u001b[0m\u001b[0;34m[\u001b[0m\u001b[0;34m'alert'\u001b[0m\u001b[0;34m]\u001b[0m\u001b[0;34m.\u001b[0m\u001b[0mget\u001b[0m\u001b[0;34m(\u001b[0m\u001b[0;34m'text'\u001b[0m\u001b[0;34m)\u001b[0m\u001b[0;34m\u001b[0m\u001b[0;34m\u001b[0m\u001b[0m\n\u001b[1;32m    241\u001b[0m             \u001b[0;32mraise\u001b[0m \u001b[0mexception_class\u001b[0m\u001b[0;34m(\u001b[0m\u001b[0mmessage\u001b[0m\u001b[0;34m,\u001b[0m \u001b[0mscreen\u001b[0m\u001b[0;34m,\u001b[0m \u001b[0mstacktrace\u001b[0m\u001b[0;34m,\u001b[0m \u001b[0malert_text\u001b[0m\u001b[0;34m)\u001b[0m\u001b[0;34m\u001b[0m\u001b[0;34m\u001b[0m\u001b[0m\n\u001b[0;32m--> 242\u001b[0;31m         \u001b[0;32mraise\u001b[0m \u001b[0mexception_class\u001b[0m\u001b[0;34m(\u001b[0m\u001b[0mmessage\u001b[0m\u001b[0;34m,\u001b[0m \u001b[0mscreen\u001b[0m\u001b[0;34m,\u001b[0m \u001b[0mstacktrace\u001b[0m\u001b[0;34m)\u001b[0m\u001b[0;34m\u001b[0m\u001b[0;34m\u001b[0m\u001b[0m\n\u001b[0m\u001b[1;32m    243\u001b[0m \u001b[0;34m\u001b[0m\u001b[0m\n\u001b[1;32m    244\u001b[0m     \u001b[0;32mdef\u001b[0m \u001b[0m_value_or_default\u001b[0m\u001b[0;34m(\u001b[0m\u001b[0mself\u001b[0m\u001b[0;34m,\u001b[0m \u001b[0mobj\u001b[0m\u001b[0;34m,\u001b[0m \u001b[0mkey\u001b[0m\u001b[0;34m,\u001b[0m \u001b[0mdefault\u001b[0m\u001b[0;34m)\u001b[0m\u001b[0;34m:\u001b[0m\u001b[0;34m\u001b[0m\u001b[0;34m\u001b[0m\u001b[0m\n",
      "\u001b[0;31mElementNotInteractableException\u001b[0m: Message: \n"
     ]
    }
   ],
   "source": [
    "ugr.click()"
   ]
  },
  {
   "cell_type": "code",
   "execution_count": 28,
   "metadata": {
    "deletable": false,
    "editable": false
   },
   "outputs": [
    {
     "name": "stdout",
     "output_type": "stream",
     "text": [
      "\n",
      "        \t\t\t\t\t\t\t        \t\t\t\t\t\t\t    Bahamas\n",
      "        \t\t\t\t\t\t\t        \t\t\t\t\t\t\t                            \t\t    Undergraduate Research\n",
      "                            \t\t        \t\t\t\t\t\t\t\n",
      "        \t\t\t\t\t\t\t            \t\t\t\t\t\t\t\t    Eastern undergraduates conduct faculty-mentored research in every major—everything from genetics\n",
      "to theater set design.\n",
      "        \t\t\t\t\t\t\t\t        \t\t\t\t\t\t\t\t        \t\t\t\t\t\t\t\t    Learn More\n",
      "        \t\t\t\t\t\t\t\t        \t\t\t\t\t\t\t\n",
      "        \t\t\t\t\t\t\n"
     ]
    }
   ],
   "source": [
    "print(ugr.text)"
   ]
  },
  {
   "cell_type": "code",
   "execution_count": null,
   "metadata": {},
   "outputs": [],
   "source": []
  },
  {
   "cell_type": "markdown",
   "metadata": {},
   "source": [
    "### Exercise: \n",
    "Search for a movie on IMDB and go to the page for the first result by *clicking* on the link. \n",
    "Can you extract the title and rating?\n",
    "\n",
    "Note: It is important to sleep for a second or two between carrying out the search and going to the first result. \n"
   ]
  },
  {
   "cell_type": "code",
   "execution_count": null,
   "metadata": {
    "deletable": false,
    "editable": false
   },
   "outputs": [],
   "source": [
    "import time"
   ]
  },
  {
   "cell_type": "code",
   "execution_count": null,
   "metadata": {},
   "outputs": [],
   "source": []
  }
 ],
 "metadata": {
  "kernelspec": {
   "display_name": "Python 3 (ipykernel)",
   "language": "python",
   "name": "python3"
  },
  "language_info": {
   "codemirror_mode": {
    "name": "ipython",
    "version": 3
   },
   "file_extension": ".py",
   "mimetype": "text/x-python",
   "name": "python",
   "nbconvert_exporter": "python",
   "pygments_lexer": "ipython3",
   "version": "3.9.13"
  }
 },
 "nbformat": 4,
 "nbformat_minor": 2
}
