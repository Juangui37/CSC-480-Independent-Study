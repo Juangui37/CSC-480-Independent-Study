{
 "cells": [
  {
   "cell_type": "code",
   "execution_count": 23,
   "id": "b7ee588d",
   "metadata": {},
   "outputs": [],
   "source": [
    "import pandas as pd\n",
    "import random\n",
    "import string\n",
    "\n",
    "# Load the Excel file into a Pandas DataFrame\n",
    "df = pd.read_excel('MLS.xlsx')\n",
    "\n",
    "# Create a dictionary to store the phone number and email for each agent\n",
    "agent_data = {}\n",
    "\n",
    "# Loop through the rows in the DataFrame\n",
    "for index, row in df.iterrows():\n",
    "    # Get the agent name from the Listing Agent column\n",
    "    agent_name = row['Listing Agent']\n",
    "    \n",
    "    # Check if the agent already exists in the dictionary\n",
    "    if agent_name in agent_data:\n",
    "        # If the agent already exists, use their existing phone number and email\n",
    "        phone_number, email = agent_data[agent_name]\n",
    "    else:\n",
    "        # If the agent doesn't exist, generate a new phone number and email\n",
    "        phone_number = ''\n",
    "        while not phone_number.startswith(('860', '203', '475', '959')):\n",
    "            phone_number = ''.join(random.choices(string.digits, k=10))\n",
    "        email = f\"{agent_name.lower().replace(' ', '')}@example.com\"\n",
    "        agent_data[agent_name] = (phone_number, email)\n",
    "    \n",
    "    # Assign the phone number and email to the corresponding columns in the row\n",
    "    df.at[index, 'Phone Number'] = phone_number\n",
    "    df.at[index, 'Email'] = email\n",
    "\n",
    "# Save the modified DataFrame to a new Excel file\n",
    "df.to_excel('MLS_modified.xlsx', index=False)\n",
    "\n",
    "\n"
   ]
  },
  {
   "cell_type": "code",
   "execution_count": 1,
   "id": "bc644d86",
   "metadata": {},
   "outputs": [],
   "source": [
    "# Load the Excel file into a pandas DataFrame\n",
    "df = pd.read_excel('MLS_modified.xlsx')\n",
    "\n",
    "# Create a dictionary to map each unique listing agent to an AgentID\n",
    "agent_id_dict = {}\n",
    "agent_id_counter = 1\n",
    "for agent in df['Listing Agent'].unique():\n",
    "    if agent not in agent_id_dict:\n",
    "        agent_id_dict[agent] = agent_id_counter\n",
    "        agent_id_counter += 1\n",
    "\n",
    "# Add the AgentID column to the DataFrame\n",
    "df['AgentID'] = df['Listing Agent'].map(agent_id_dict)\n",
    "\n",
    "# Save the updated DataFrame to a new Excel file\n",
    "df.to_excel('your_updated_excel_file.xlsx', index=False)\n"
   ]
  },
  {
   "cell_type": "code",
   "execution_count": null,
   "id": "2e838320",
   "metadata": {},
   "outputs": [],
   "source": []
  }
 ],
 "metadata": {
  "kernelspec": {
   "display_name": "Python 3 (ipykernel)",
   "language": "python",
   "name": "python3"
  },
  "language_info": {
   "codemirror_mode": {
    "name": "ipython",
    "version": 3
   },
   "file_extension": ".py",
   "mimetype": "text/x-python",
   "name": "python",
   "nbconvert_exporter": "python",
   "pygments_lexer": "ipython3",
   "version": "3.10.9"
  }
 },
 "nbformat": 4,
 "nbformat_minor": 5
}
