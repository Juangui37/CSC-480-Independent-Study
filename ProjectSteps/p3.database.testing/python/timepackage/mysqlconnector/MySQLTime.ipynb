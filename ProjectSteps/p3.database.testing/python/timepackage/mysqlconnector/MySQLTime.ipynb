{
 "cells": [
  {
   "cell_type": "code",
   "execution_count": 1,
   "id": "c6b11b7f",
   "metadata": {},
   "outputs": [
    {
     "name": "stdout",
     "output_type": "stream",
     "text": [
      "Query took 0.003776073455811 seconds to execute\n",
      "Query took 0.002021074295044 seconds to execute\n",
      "Query took 0.001022100448608 seconds to execute\n",
      "Query took 0.002572059631348 seconds to execute\n",
      "Query took 0.001898288726807 seconds to execute\n",
      "Query took 0.001571893692017 seconds to execute\n",
      "Query took 0.003462314605713 seconds to execute\n",
      "Query took 0.002078056335449 seconds to execute\n",
      "Query took 0.002403974533081 seconds to execute\n",
      "Query took 0.001523971557617 seconds to execute\n",
      "Query took 0.002180814743042 seconds to execute\n"
     ]
    }
   ],
   "source": [
    "import mysql.connector\n",
    "import time\n",
    "import pandas as pd\n",
    "\n",
    "# connect to database\n",
    "mydb = mysql.connector.connect(\n",
    "  host=\"localhost\",\n",
    "  user=\"admin\",\n",
    "  password=\"Pacho1414+++\",\n",
    "  database=\"housing\"\n",
    ")\n",
    "\n",
    "# create a cursor object\n",
    "mycursor = mydb.cursor()\n",
    "\n",
    "# define a function to time the execution of a query\n",
    "def time_query_execution(query):\n",
    "    start_time = time.time()\n",
    "    mycursor.execute(query)\n",
    "    mycursor.fetchall()  # consume the result set to avoid \"Unread result found\" error\n",
    "    end_time = time.time()\n",
    "    return end_time - start_time\n",
    "\n",
    "# define the queries\n",
    "queries = [\n",
    "    \"SELECT MlSNum, HouseStatus, Address, City, Acres, YearBuilt FROM PropertyInfo WHERE ListPrice > 500000 ORDER BY YearBuilt\",\n",
    "    \"SELECT DISTINCT PropType FROM PropertyInfo\",\n",
    "    \"SELECT COUNT(*) FROM PropertyInfo WHERE HouseStatus = 'ACTV'\",\n",
    "    \"SELECT City, AVG(ClosePrice) AS AVGCP FROM PropertyInfo GROUP BY City ORDER BY AVGCP\",\n",
    "    \"SELECT DISTINCT AgentID FROM RealtorListing\",\n",
    "    \"SELECT DISTINCT r.AgentID FROM Realtor r INNER JOIN RealtorListing rl ON r.AgentID = rl.AgentID INNER JOIN PropertyInfo pi ON rl.MLSNum = pi.MLSNum WHERE pi.ListPrice > 500000 ORDER BY AgentID\",\n",
    "    \"SELECT AgentID, COUNT(*) as TotalListings FROM RealtorListing GROUP BY AgentID ORDER BY TotalListings DESC \",\n",
    "    \"SELECT City, COUNT(*) as TotalForSale FROM PropertyInfo WHERE HouseStatus = 'ACTV' GROUP BY City ORDER BY TotalForSale DESC\",\n",
    "    \"SELECT PropType, AVG(ListPrice) FROM PropertyInfo GROUP BY PropType\",\n",
    "    \"SELECT ListingAgent, COUNT(*) as TotalListings FROM Realtor GROUP BY ListingAgent ORDER BY TotalListings DESC LIMIT 10\",\n",
    "    \"SELECT YearBuilt, AVG(ClosePrice) FROM PropertyInfo GROUP BY YearBuilt ORDER BY YearBuilt ASC\"\n",
    "]\n",
    "\n",
    "# time the execution of each query and store the results in a list\n",
    "query_times = []\n",
    "for query in queries:\n",
    "    query_time = time_query_execution(query)\n",
    "    query_times.append(query_time)\n",
    "    print(f\"Query took {query_time:.15f} seconds to execute\")\n",
    "\n",
    "# create a dataframe from the query times and write it to an excel file\n",
    "df = pd.DataFrame({\"Query\": queries, \"Execution Time\": query_times})\n",
    "df.to_excel(\"1111.xlsx\", index=False)\n"
   ]
  },
  {
   "cell_type": "code",
   "execution_count": 3,
   "id": "24c1941e",
   "metadata": {},
   "outputs": [],
   "source": [
    "mydb.close()"
   ]
  },
  {
   "cell_type": "code",
   "execution_count": null,
   "id": "c96681d4",
   "metadata": {},
   "outputs": [],
   "source": []
  }
 ],
 "metadata": {
  "kernelspec": {
   "display_name": "Python 3",
   "language": "python",
   "name": "python3"
  },
  "language_info": {
   "codemirror_mode": {
    "name": "ipython",
    "version": 3
   },
   "file_extension": ".py",
   "mimetype": "text/x-python",
   "name": "python",
   "nbconvert_exporter": "python",
   "pygments_lexer": "ipython3",
   "version": "3.11.3"
  },
  "vscode": {
   "interpreter": {
    "hash": "aee8b7b246df8f9039afb4144a1f6fd8d2ca17a180786b69acc140d282b71a49"
   }
  }
 },
 "nbformat": 4,
 "nbformat_minor": 5
}
